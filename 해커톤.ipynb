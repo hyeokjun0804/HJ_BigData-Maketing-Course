{
  "nbformat": 4,
  "nbformat_minor": 0,
  "metadata": {
    "colab": {
      "provenance": [],
      "mount_file_id": "1kSD_5geXM22bJtWLx-Rs9f8nS8BNes--",
      "authorship_tag": "ABX9TyNsiHxyRyNWynvTGzWw7ofr",
      "include_colab_link": true
    },
    "kernelspec": {
      "name": "python3",
      "display_name": "Python 3"
    },
    "language_info": {
      "name": "python"
    }
  },
  "cells": [
    {
      "cell_type": "markdown",
      "metadata": {
        "id": "view-in-github",
        "colab_type": "text"
      },
      "source": [
        "<a href=\"https://colab.research.google.com/github/hyeokjun0804/HJ_BigData_Maketing_Course/blob/main/%ED%95%B4%EC%BB%A4%ED%86%A4.ipynb\" target=\"_parent\"><img src=\"https://colab.research.google.com/assets/colab-badge.svg\" alt=\"Open In Colab\"/></a>"
      ]
    },
    {
      "cell_type": "code",
      "source": [
        "from google.colab import drive\n",
        "drive.mount('/content/drive')"
      ],
      "metadata": {
        "colab": {
          "base_uri": "https://localhost:8080/"
        },
        "id": "9-sIQFFmbCp9",
        "outputId": "71755b0e-024f-4f28-d830-32af39571661"
      },
      "execution_count": 1,
      "outputs": [
        {
          "output_type": "stream",
          "name": "stdout",
          "text": [
            "Drive already mounted at /content/drive; to attempt to forcibly remount, call drive.mount(\"/content/drive\", force_remount=True).\n"
          ]
        }
      ]
    },
    {
      "cell_type": "code",
      "source": [
        "import pandas as pd\n",
        "import numpy as np\n",
        "from sklearn.cluster import KMeans\n",
        "from matplotlib import pyplot as plt"
      ],
      "metadata": {
        "id": "XMLQIPDPcYRA"
      },
      "execution_count": 2,
      "outputs": []
    },
    {
      "cell_type": "code",
      "source": [
        "%matplotlib inline\n",
        "!pip install koreanize-matplotlib\n",
        "import koreanize_matplotlib"
      ],
      "metadata": {
        "id": "wZRLgZUKvgjR",
        "colab": {
          "base_uri": "https://localhost:8080/"
        },
        "outputId": "83d744c9-cc17-4c5f-bb6c-d045099b7d1d"
      },
      "execution_count": 3,
      "outputs": [
        {
          "output_type": "stream",
          "name": "stdout",
          "text": [
            "Looking in indexes: https://pypi.org/simple, https://us-python.pkg.dev/colab-wheels/public/simple/\n",
            "Requirement already satisfied: koreanize-matplotlib in /usr/local/lib/python3.9/dist-packages (0.1.1)\n",
            "Requirement already satisfied: matplotlib in /usr/local/lib/python3.9/dist-packages (from koreanize-matplotlib) (3.5.3)\n",
            "Requirement already satisfied: pyparsing>=2.2.1 in /usr/local/lib/python3.9/dist-packages (from matplotlib->koreanize-matplotlib) (3.0.9)\n",
            "Requirement already satisfied: kiwisolver>=1.0.1 in /usr/local/lib/python3.9/dist-packages (from matplotlib->koreanize-matplotlib) (1.4.4)\n",
            "Requirement already satisfied: python-dateutil>=2.7 in /usr/local/lib/python3.9/dist-packages (from matplotlib->koreanize-matplotlib) (2.8.2)\n",
            "Requirement already satisfied: cycler>=0.10 in /usr/local/lib/python3.9/dist-packages (from matplotlib->koreanize-matplotlib) (0.11.0)\n",
            "Requirement already satisfied: fonttools>=4.22.0 in /usr/local/lib/python3.9/dist-packages (from matplotlib->koreanize-matplotlib) (4.39.0)\n",
            "Requirement already satisfied: packaging>=20.0 in /usr/local/lib/python3.9/dist-packages (from matplotlib->koreanize-matplotlib) (23.0)\n",
            "Requirement already satisfied: numpy>=1.17 in /usr/local/lib/python3.9/dist-packages (from matplotlib->koreanize-matplotlib) (1.22.4)\n",
            "Requirement already satisfied: pillow>=6.2.0 in /usr/local/lib/python3.9/dist-packages (from matplotlib->koreanize-matplotlib) (8.4.0)\n",
            "Requirement already satisfied: six>=1.5 in /usr/local/lib/python3.9/dist-packages (from python-dateutil>=2.7->matplotlib->koreanize-matplotlib) (1.15.0)\n"
          ]
        }
      ]
    },
    {
      "cell_type": "markdown",
      "source": [
        "# 데이터 불러오기\n",
        "data = pd.read_csv('data.csv')\n",
        "\n",
        "# 데이터 전처리\n",
        "X = data.drop(['id', 'diagnosis'], axis=1)  # 불필요한 열 제거\n",
        "X = (X - X.mean()) / X.std()  # 표준화\n",
        "\n",
        "# 군집 분석 알고리즘 선택\n",
        "kmeans = KMeans(n_clusters=2)\n",
        "\n",
        "# 모델 학습 및 군집화\n",
        "kmeans.fit(X)\n",
        "labels = kmeans.labels_\n",
        "\n",
        "# 결과 시각화\n",
        "plt.scatter(X.iloc[:, 0], X.iloc[:, 1], c=labels)\n",
        "plt.xlabel('Feature 1')\n",
        "plt.ylabel('Feature 2')\n",
        "plt.show()\n",
        "위 코드에서는 유방암 데이터셋을 불러와서 'id'와 'diagnosis' 열을 제외하고 표준화한 뒤, K-Means 알고리즘을 사용하여 2개의 클러스터로 묶은 결과를 시각화하고 있습니다.\n",
        "\n",
        "위 코드에서 사용된 데이터셋은 예시를 위해 선택한 것이며, 실제 데이터셋을 군집 분석할 때에는 해당 데이터셋의 특성에 맞는 적절한 전처리와 군집 분석 알고리즘을 선택하여 적용해야 합니다."
      ],
      "metadata": {
        "id": "zvlu57dAXblP"
      }
    },
    {
      "cell_type": "markdown",
      "source": [
        "5대 범죄 발생현황"
      ],
      "metadata": {
        "id": "EKBl78t6wzzp"
      }
    },
    {
      "cell_type": "code",
      "source": [
        "seoul = pd.read_csv(\"/content/drive/MyDrive/Colab Notebooks/csv file/5대범죄_발생현황 2020~2021년 소개합.csv\")\n",
        "\n",
        "seoul"
      ],
      "metadata": {
        "colab": {
          "base_uri": "https://localhost:8080/",
          "height": 833
        },
        "id": "TjuPS87FaR5b",
        "outputId": "b6010e4e-20a3-4e4b-cff3-db05782360a7"
      },
      "execution_count": 4,
      "outputs": [
        {
          "output_type": "execute_result",
          "data": {
            "text/plain": [
              "    자치구별  2020년~2021소계\n",
              "0    도봉구          4039\n",
              "1    성동구          4474\n",
              "2   서대문구          4811\n",
              "3    성북구          4978\n",
              "4    금천구          5037\n",
              "5    강북구          5071\n",
              "6    용산구          5350\n",
              "7    종로구          5814\n",
              "8    동작구          5831\n",
              "9    양천구          6231\n",
              "10    중구          6272\n",
              "11  동대문구          6360\n",
              "12   은평구          6634\n",
              "13   광진구          6688\n",
              "14   중랑구          6936\n",
              "15   노원구          7168\n",
              "16   마포구          7228\n",
              "17   강동구          7246\n",
              "18   구로구          7661\n",
              "19   서초구          8257\n",
              "20   강서구          8311\n",
              "21  영등포구          9396\n",
              "22   관악구          9705\n",
              "23   송파구         10124\n",
              "24   강남구         13502"
            ],
            "text/html": [
              "\n",
              "  <div id=\"df-47823af2-0251-48c8-91e0-a1a27627a9d7\">\n",
              "    <div class=\"colab-df-container\">\n",
              "      <div>\n",
              "<style scoped>\n",
              "    .dataframe tbody tr th:only-of-type {\n",
              "        vertical-align: middle;\n",
              "    }\n",
              "\n",
              "    .dataframe tbody tr th {\n",
              "        vertical-align: top;\n",
              "    }\n",
              "\n",
              "    .dataframe thead th {\n",
              "        text-align: right;\n",
              "    }\n",
              "</style>\n",
              "<table border=\"1\" class=\"dataframe\">\n",
              "  <thead>\n",
              "    <tr style=\"text-align: right;\">\n",
              "      <th></th>\n",
              "      <th>자치구별</th>\n",
              "      <th>2020년~2021소계</th>\n",
              "    </tr>\n",
              "  </thead>\n",
              "  <tbody>\n",
              "    <tr>\n",
              "      <th>0</th>\n",
              "      <td>도봉구</td>\n",
              "      <td>4039</td>\n",
              "    </tr>\n",
              "    <tr>\n",
              "      <th>1</th>\n",
              "      <td>성동구</td>\n",
              "      <td>4474</td>\n",
              "    </tr>\n",
              "    <tr>\n",
              "      <th>2</th>\n",
              "      <td>서대문구</td>\n",
              "      <td>4811</td>\n",
              "    </tr>\n",
              "    <tr>\n",
              "      <th>3</th>\n",
              "      <td>성북구</td>\n",
              "      <td>4978</td>\n",
              "    </tr>\n",
              "    <tr>\n",
              "      <th>4</th>\n",
              "      <td>금천구</td>\n",
              "      <td>5037</td>\n",
              "    </tr>\n",
              "    <tr>\n",
              "      <th>5</th>\n",
              "      <td>강북구</td>\n",
              "      <td>5071</td>\n",
              "    </tr>\n",
              "    <tr>\n",
              "      <th>6</th>\n",
              "      <td>용산구</td>\n",
              "      <td>5350</td>\n",
              "    </tr>\n",
              "    <tr>\n",
              "      <th>7</th>\n",
              "      <td>종로구</td>\n",
              "      <td>5814</td>\n",
              "    </tr>\n",
              "    <tr>\n",
              "      <th>8</th>\n",
              "      <td>동작구</td>\n",
              "      <td>5831</td>\n",
              "    </tr>\n",
              "    <tr>\n",
              "      <th>9</th>\n",
              "      <td>양천구</td>\n",
              "      <td>6231</td>\n",
              "    </tr>\n",
              "    <tr>\n",
              "      <th>10</th>\n",
              "      <td>중구</td>\n",
              "      <td>6272</td>\n",
              "    </tr>\n",
              "    <tr>\n",
              "      <th>11</th>\n",
              "      <td>동대문구</td>\n",
              "      <td>6360</td>\n",
              "    </tr>\n",
              "    <tr>\n",
              "      <th>12</th>\n",
              "      <td>은평구</td>\n",
              "      <td>6634</td>\n",
              "    </tr>\n",
              "    <tr>\n",
              "      <th>13</th>\n",
              "      <td>광진구</td>\n",
              "      <td>6688</td>\n",
              "    </tr>\n",
              "    <tr>\n",
              "      <th>14</th>\n",
              "      <td>중랑구</td>\n",
              "      <td>6936</td>\n",
              "    </tr>\n",
              "    <tr>\n",
              "      <th>15</th>\n",
              "      <td>노원구</td>\n",
              "      <td>7168</td>\n",
              "    </tr>\n",
              "    <tr>\n",
              "      <th>16</th>\n",
              "      <td>마포구</td>\n",
              "      <td>7228</td>\n",
              "    </tr>\n",
              "    <tr>\n",
              "      <th>17</th>\n",
              "      <td>강동구</td>\n",
              "      <td>7246</td>\n",
              "    </tr>\n",
              "    <tr>\n",
              "      <th>18</th>\n",
              "      <td>구로구</td>\n",
              "      <td>7661</td>\n",
              "    </tr>\n",
              "    <tr>\n",
              "      <th>19</th>\n",
              "      <td>서초구</td>\n",
              "      <td>8257</td>\n",
              "    </tr>\n",
              "    <tr>\n",
              "      <th>20</th>\n",
              "      <td>강서구</td>\n",
              "      <td>8311</td>\n",
              "    </tr>\n",
              "    <tr>\n",
              "      <th>21</th>\n",
              "      <td>영등포구</td>\n",
              "      <td>9396</td>\n",
              "    </tr>\n",
              "    <tr>\n",
              "      <th>22</th>\n",
              "      <td>관악구</td>\n",
              "      <td>9705</td>\n",
              "    </tr>\n",
              "    <tr>\n",
              "      <th>23</th>\n",
              "      <td>송파구</td>\n",
              "      <td>10124</td>\n",
              "    </tr>\n",
              "    <tr>\n",
              "      <th>24</th>\n",
              "      <td>강남구</td>\n",
              "      <td>13502</td>\n",
              "    </tr>\n",
              "  </tbody>\n",
              "</table>\n",
              "</div>\n",
              "      <button class=\"colab-df-convert\" onclick=\"convertToInteractive('df-47823af2-0251-48c8-91e0-a1a27627a9d7')\"\n",
              "              title=\"Convert this dataframe to an interactive table.\"\n",
              "              style=\"display:none;\">\n",
              "        \n",
              "  <svg xmlns=\"http://www.w3.org/2000/svg\" height=\"24px\"viewBox=\"0 0 24 24\"\n",
              "       width=\"24px\">\n",
              "    <path d=\"M0 0h24v24H0V0z\" fill=\"none\"/>\n",
              "    <path d=\"M18.56 5.44l.94 2.06.94-2.06 2.06-.94-2.06-.94-.94-2.06-.94 2.06-2.06.94zm-11 1L8.5 8.5l.94-2.06 2.06-.94-2.06-.94L8.5 2.5l-.94 2.06-2.06.94zm10 10l.94 2.06.94-2.06 2.06-.94-2.06-.94-.94-2.06-.94 2.06-2.06.94z\"/><path d=\"M17.41 7.96l-1.37-1.37c-.4-.4-.92-.59-1.43-.59-.52 0-1.04.2-1.43.59L10.3 9.45l-7.72 7.72c-.78.78-.78 2.05 0 2.83L4 21.41c.39.39.9.59 1.41.59.51 0 1.02-.2 1.41-.59l7.78-7.78 2.81-2.81c.8-.78.8-2.07 0-2.86zM5.41 20L4 18.59l7.72-7.72 1.47 1.35L5.41 20z\"/>\n",
              "  </svg>\n",
              "      </button>\n",
              "      \n",
              "  <style>\n",
              "    .colab-df-container {\n",
              "      display:flex;\n",
              "      flex-wrap:wrap;\n",
              "      gap: 12px;\n",
              "    }\n",
              "\n",
              "    .colab-df-convert {\n",
              "      background-color: #E8F0FE;\n",
              "      border: none;\n",
              "      border-radius: 50%;\n",
              "      cursor: pointer;\n",
              "      display: none;\n",
              "      fill: #1967D2;\n",
              "      height: 32px;\n",
              "      padding: 0 0 0 0;\n",
              "      width: 32px;\n",
              "    }\n",
              "\n",
              "    .colab-df-convert:hover {\n",
              "      background-color: #E2EBFA;\n",
              "      box-shadow: 0px 1px 2px rgba(60, 64, 67, 0.3), 0px 1px 3px 1px rgba(60, 64, 67, 0.15);\n",
              "      fill: #174EA6;\n",
              "    }\n",
              "\n",
              "    [theme=dark] .colab-df-convert {\n",
              "      background-color: #3B4455;\n",
              "      fill: #D2E3FC;\n",
              "    }\n",
              "\n",
              "    [theme=dark] .colab-df-convert:hover {\n",
              "      background-color: #434B5C;\n",
              "      box-shadow: 0px 1px 3px 1px rgba(0, 0, 0, 0.15);\n",
              "      filter: drop-shadow(0px 1px 2px rgba(0, 0, 0, 0.3));\n",
              "      fill: #FFFFFF;\n",
              "    }\n",
              "  </style>\n",
              "\n",
              "      <script>\n",
              "        const buttonEl =\n",
              "          document.querySelector('#df-47823af2-0251-48c8-91e0-a1a27627a9d7 button.colab-df-convert');\n",
              "        buttonEl.style.display =\n",
              "          google.colab.kernel.accessAllowed ? 'block' : 'none';\n",
              "\n",
              "        async function convertToInteractive(key) {\n",
              "          const element = document.querySelector('#df-47823af2-0251-48c8-91e0-a1a27627a9d7');\n",
              "          const dataTable =\n",
              "            await google.colab.kernel.invokeFunction('convertToInteractive',\n",
              "                                                     [key], {});\n",
              "          if (!dataTable) return;\n",
              "\n",
              "          const docLinkHtml = 'Like what you see? Visit the ' +\n",
              "            '<a target=\"_blank\" href=https://colab.research.google.com/notebooks/data_table.ipynb>data table notebook</a>'\n",
              "            + ' to learn more about interactive tables.';\n",
              "          element.innerHTML = '';\n",
              "          dataTable['output_type'] = 'display_data';\n",
              "          await google.colab.output.renderOutput(dataTable, element);\n",
              "          const docLink = document.createElement('div');\n",
              "          docLink.innerHTML = docLinkHtml;\n",
              "          element.appendChild(docLink);\n",
              "        }\n",
              "      </script>\n",
              "    </div>\n",
              "  </div>\n",
              "  "
            ]
          },
          "metadata": {},
          "execution_count": 4
        }
      ]
    },
    {
      "cell_type": "code",
      "source": [
        "label = seoul['자치구별']\n",
        "data_1 = seoul[\"2020년~2021소계\"]\n",
        "threshold =seoul[seoul['자치구별']=='강서구']['자치구별'].index[0]\n",
        "index = range(len(label))  # index 추가\n",
        "plt.figure(figsize=(17,17)) \n",
        "plt.barh(index, data_1)\n",
        "\n",
        "\n",
        "plt.barh(index[threshold], data_1[threshold], color='red')\n",
        "\n",
        "plt.title('2020년~2021소계', fontsize=18)\n",
        "\n",
        "plt.ylabel('자치구별', fontsize=15)\n",
        "\n",
        "plt.xlabel('2020년~2021소계', fontsize=15)\n",
        "\n",
        "plt.yticks(index, label, fontsize=13, rotation=0)\n",
        "\n",
        "plt.show()\n"
      ],
      "metadata": {
        "colab": {
          "base_uri": "https://localhost:8080/",
          "height": 1000
        },
        "id": "mVxmhXpxa7Hy",
        "outputId": "38a8feca-2368-48ae-d5d4-ed1792532745"
      },
      "execution_count": 5,
      "outputs": [
        {
          "output_type": "display_data",
          "data": {
            "text/plain": [
              "<Figure size 1224x1224 with 1 Axes>"
            ],
            "image/png": "[encoded data removed]"
          },
          "metadata": {
            "needs_background": "light"
          }
        }
      ]
    },
    {
      "cell_type": "code",
      "source": [
        "crime = pd.read_csv(\"/content/drive/MyDrive/Colab Notebooks/csv file/강서구_5대범죄현황.csv\")\n",
        "crime"
      ],
      "metadata": {
        "colab": {
          "base_uri": "https://localhost:8080/",
          "height": 81
        },
        "id": "p_eS7hiGw3QY",
        "outputId": "5f933284-835f-44dc-c057-8045df818fd1"
      },
      "execution_count": 6,
      "outputs": [
        {
          "output_type": "execute_result",
          "data": {
            "text/plain": [
              "   살인  강도  강간·강제추행    절도    폭력\n",
              "0  19   9      511  3229  4543"
            ],
            "text/html": [
              "\n",
              "  <div id=\"df-e5f7e727-0741-4e6c-82bf-af8b638c22df\">\n",
              "    <div class=\"colab-df-container\">\n",
              "      <div>\n",
              "<style scoped>\n",
              "    .dataframe tbody tr th:only-of-type {\n",
              "        vertical-align: middle;\n",
              "    }\n",
              "\n",
              "    .dataframe tbody tr th {\n",
              "        vertical-align: top;\n",
              "    }\n",
              "\n",
              "    .dataframe thead th {\n",
              "        text-align: right;\n",
              "    }\n",
              "</style>\n",
              "<table border=\"1\" class=\"dataframe\">\n",
              "  <thead>\n",
              "    <tr style=\"text-align: right;\">\n",
              "      <th></th>\n",
              "      <th>살인</th>\n",
              "      <th>강도</th>\n",
              "      <th>강간·강제추행</th>\n",
              "      <th>절도</th>\n",
              "      <th>폭력</th>\n",
              "    </tr>\n",
              "  </thead>\n",
              "  <tbody>\n",
              "    <tr>\n",
              "      <th>0</th>\n",
              "      <td>19</td>\n",
              "      <td>9</td>\n",
              "      <td>511</td>\n",
              "      <td>3229</td>\n",
              "      <td>4543</td>\n",
              "    </tr>\n",
              "  </tbody>\n",
              "</table>\n",
              "</div>\n",
              "      <button class=\"colab-df-convert\" onclick=\"convertToInteractive('df-e5f7e727-0741-4e6c-82bf-af8b638c22df')\"\n",
              "              title=\"Convert this dataframe to an interactive table.\"\n",
              "              style=\"display:none;\">\n",
              "        \n",
              "  <svg xmlns=\"http://www.w3.org/2000/svg\" height=\"24px\"viewBox=\"0 0 24 24\"\n",
              "       width=\"24px\">\n",
              "    <path d=\"M0 0h24v24H0V0z\" fill=\"none\"/>\n",
              "    <path d=\"M18.56 5.44l.94 2.06.94-2.06 2.06-.94-2.06-.94-.94-2.06-.94 2.06-2.06.94zm-11 1L8.5 8.5l.94-2.06 2.06-.94-2.06-.94L8.5 2.5l-.94 2.06-2.06.94zm10 10l.94 2.06.94-2.06 2.06-.94-2.06-.94-.94-2.06-.94 2.06-2.06.94z\"/><path d=\"M17.41 7.96l-1.37-1.37c-.4-.4-.92-.59-1.43-.59-.52 0-1.04.2-1.43.59L10.3 9.45l-7.72 7.72c-.78.78-.78 2.05 0 2.83L4 21.41c.39.39.9.59 1.41.59.51 0 1.02-.2 1.41-.59l7.78-7.78 2.81-2.81c.8-.78.8-2.07 0-2.86zM5.41 20L4 18.59l7.72-7.72 1.47 1.35L5.41 20z\"/>\n",
              "  </svg>\n",
              "      </button>\n",
              "      \n",
              "  <style>\n",
              "    .colab-df-container {\n",
              "      display:flex;\n",
              "      flex-wrap:wrap;\n",
              "      gap: 12px;\n",
              "    }\n",
              "\n",
              "    .colab-df-convert {\n",
              "      background-color: #E8F0FE;\n",
              "      border: none;\n",
              "      border-radius: 50%;\n",
              "      cursor: pointer;\n",
              "      display: none;\n",
              "      fill: #1967D2;\n",
              "      height: 32px;\n",
              "      padding: 0 0 0 0;\n",
              "      width: 32px;\n",
              "    }\n",
              "\n",
              "    .colab-df-convert:hover {\n",
              "      background-color: #E2EBFA;\n",
              "      box-shadow: 0px 1px 2px rgba(60, 64, 67, 0.3), 0px 1px 3px 1px rgba(60, 64, 67, 0.15);\n",
              "      fill: #174EA6;\n",
              "    }\n",
              "\n",
              "    [theme=dark] .colab-df-convert {\n",
              "      background-color: #3B4455;\n",
              "      fill: #D2E3FC;\n",
              "    }\n",
              "\n",
              "    [theme=dark] .colab-df-convert:hover {\n",
              "      background-color: #434B5C;\n",
              "      box-shadow: 0px 1px 3px 1px rgba(0, 0, 0, 0.15);\n",
              "      filter: drop-shadow(0px 1px 2px rgba(0, 0, 0, 0.3));\n",
              "      fill: #FFFFFF;\n",
              "    }\n",
              "  </style>\n",
              "\n",
              "      <script>\n",
              "        const buttonEl =\n",
              "          document.querySelector('#df-e5f7e727-0741-4e6c-82bf-af8b638c22df button.colab-df-convert');\n",
              "        buttonEl.style.display =\n",
              "          google.colab.kernel.accessAllowed ? 'block' : 'none';\n",
              "\n",
              "        async function convertToInteractive(key) {\n",
              "          const element = document.querySelector('#df-e5f7e727-0741-4e6c-82bf-af8b638c22df');\n",
              "          const dataTable =\n",
              "            await google.colab.kernel.invokeFunction('convertToInteractive',\n",
              "                                                     [key], {});\n",
              "          if (!dataTable) return;\n",
              "\n",
              "          const docLinkHtml = 'Like what you see? Visit the ' +\n",
              "            '<a target=\"_blank\" href=https://colab.research.google.com/notebooks/data_table.ipynb>data table notebook</a>'\n",
              "            + ' to learn more about interactive tables.';\n",
              "          element.innerHTML = '';\n",
              "          dataTable['output_type'] = 'display_data';\n",
              "          await google.colab.output.renderOutput(dataTable, element);\n",
              "          const docLink = document.createElement('div');\n",
              "          docLink.innerHTML = docLinkHtml;\n",
              "          element.appendChild(docLink);\n",
              "        }\n",
              "      </script>\n",
              "    </div>\n",
              "  </div>\n",
              "  "
            ]
          },
          "metadata": {},
          "execution_count": 6
        }
      ]
    },
    {
      "cell_type": "code",
      "source": [
        "crime.info()"
      ],
      "metadata": {
        "colab": {
          "base_uri": "https://localhost:8080/"
        },
        "id": "lN_DAyh8cxP1",
        "outputId": "87431088-6b0b-4d94-eabf-68b06507f9a0"
      },
      "execution_count": 7,
      "outputs": [
        {
          "output_type": "stream",
          "name": "stdout",
          "text": [
            "<class 'pandas.core.frame.DataFrame'>\n",
            "RangeIndex: 1 entries, 0 to 0\n",
            "Data columns (total 5 columns):\n",
            " #   Column   Non-Null Count  Dtype\n",
            "---  ------   --------------  -----\n",
            " 0   살인       1 non-null      int64\n",
            " 1   강도       1 non-null      int64\n",
            " 2   강간·강제추행  1 non-null      int64\n",
            " 3   절도       1 non-null      int64\n",
            " 4   폭력       1 non-null      int64\n",
            "dtypes: int64(5)\n",
            "memory usage: 168.0 bytes\n"
          ]
        }
      ]
    },
    {
      "cell_type": "code",
      "source": [
        "crime.columns"
      ],
      "metadata": {
        "colab": {
          "base_uri": "https://localhost:8080/"
        },
        "id": "MfqM0bwiZwbH",
        "outputId": "d9e6b9c5-86ee-4cc0-d9d4-abb64fc97a8c"
      },
      "execution_count": 8,
      "outputs": [
        {
          "output_type": "execute_result",
          "data": {
            "text/plain": [
              "Index(['살인', '강도', '강간·강제추행', '절도', '폭력'], dtype='object')"
            ]
          },
          "metadata": {},
          "execution_count": 8
        }
      ]
    },
    {
      "cell_type": "code",
      "source": [
        "crime.plot(kind = \"bar\", title = \"강서구 5대 범죄\", figsize=(20,10))"
      ],
      "metadata": {
        "id": "Lq1-kpUAtll5",
        "colab": {
          "base_uri": "https://localhost:8080/",
          "height": 620
        },
        "outputId": "d1a9c4dc-828c-4fed-c9b7-bee04ae98a43"
      },
      "execution_count": 9,
      "outputs": [
        {
          "output_type": "execute_result",
          "data": {
            "text/plain": [
              "<AxesSubplot:title={'center':'강서구 5대 범죄'}>"
            ]
          },
          "metadata": {},
          "execution_count": 9
        },
        {
          "output_type": "display_data",
          "data": {
            "text/plain": [
              "<Figure size 1440x720 with 1 Axes>"
            ],
            "image/png": "[encoded data removed]"
          },
          "metadata": {
            "needs_background": "light"
          }
        }
      ]
    },
    {
      "cell_type": "code",
      "source": [
        "crime[['살인','강도','강간·강제추행']].plot(kind = \"bar\",figsize=(10,10), width = 0.5)"
      ],
      "metadata": {
        "id": "7Z0rmxffgBi4",
        "colab": {
          "base_uri": "https://localhost:8080/",
          "height": 606
        },
        "outputId": "d87dba1d-7917-455d-91d5-fdd094c89657"
      },
      "execution_count": 10,
      "outputs": [
        {
          "output_type": "execute_result",
          "data": {
            "text/plain": [
              "<AxesSubplot:>"
            ]
          },
          "metadata": {},
          "execution_count": 10
        },
        {
          "output_type": "display_data",
          "data": {
            "text/plain": [
              "<Figure size 720x720 with 1 Axes>"
            ],
            "image/png": "[encoded data removed]"
          },
          "metadata": {
            "needs_background": "light"
          }
        }
      ]
    },
    {
      "cell_type": "code",
      "source": [
        "crime[['절도', '폭력']].plot(kind = \"bar\",figsize=(10,10), width = 0.5)"
      ],
      "metadata": {
        "id": "OMDPs3utgBgU",
        "colab": {
          "base_uri": "https://localhost:8080/",
          "height": 606
        },
        "outputId": "4985e661-1c76-42b1-97f7-d2f0c177d705"
      },
      "execution_count": 11,
      "outputs": [
        {
          "output_type": "execute_result",
          "data": {
            "text/plain": [
              "<AxesSubplot:>"
            ]
          },
          "metadata": {},
          "execution_count": 11
        },
        {
          "output_type": "display_data",
          "data": {
            "text/plain": [
              "<Figure size 720x720 with 1 Axes>"
            ],
            "image/png": "[encoded data removed]"
          },
          "metadata": {
            "needs_background": "light"
          }
        }
      ]
    },
    {
      "cell_type": "code",
      "source": [],
      "metadata": {
        "id": "wmgn6MdXgBdw"
      },
      "execution_count": 11,
      "outputs": []
    },
    {
      "cell_type": "code",
      "source": [],
      "metadata": {
        "id": "Q9isjbZ0gBZk"
      },
      "execution_count": 11,
      "outputs": []
    },
    {
      "cell_type": "code",
      "source": [],
      "metadata": {
        "id": "A7IacrsQgBQ5"
      },
      "execution_count": 11,
      "outputs": []
    },
    {
      "cell_type": "markdown",
      "source": [
        "CCTV"
      ],
      "metadata": {
        "id": "NaoV442awwpN"
      }
    },
    {
      "cell_type": "code",
      "source": [
        "cctv = pd.read_csv(\"/content/drive/MyDrive/Colab Notebooks/csv file/CCTV 정보(서울특별시_강서구).csv\")\n",
        "cctv"
      ],
      "metadata": {
        "colab": {
          "base_uri": "https://localhost:8080/",
          "height": 572
        },
        "id": "7fuV5bksxGvy",
        "outputId": "42c07ee5-494e-435c-9205-5514f7a6b325"
      },
      "execution_count": 12,
      "outputs": [
        {
          "output_type": "execute_result",
          "data": {
            "text/plain": [
              "           관리기관명                   소재지지번주소     설치년월  보관일수  카메라대수          경도  \\\n",
              "0       서울특별시 시청       서울특별시 강서구 개화동 224번지      NaN     0      1  126.801000   \n",
              "1       중앙혈액검사센터      서울특별시 강서구 염창동 280-21  2008-10    30     16  126.871295   \n",
              "2        서울서부혈액원      서울특별시 강서구 염창동 280-14  2011-09    30     16  126.870847   \n",
              "3        서울서부혈액원      서울특별시 강서구 화곡동 1006-1  2012-07    30      8  126.835811   \n",
              "4     서울특별시 강서구청    서울특별시 강서구 화곡6동 1130-35  2017-12    30      3  126.853601   \n",
              "..           ...                       ...      ...   ...    ...         ...   \n",
              "700   인천광역시 부평구청  인천광역시 부평구 부개동 499-6 청운공원   Aug-17    30      1  126.853682   \n",
              "701  서울특별시시설관리공단         서울특별시 강서구 개화동 663  2014-01    30      8  126.798922   \n",
              "702  서울특별시시설관리공단         서울특별시 강서구 방화동 846  2011-00    30      8  126.805774   \n",
              "703  서울특별시시설관리공단       서울특별시 강서구 개화동 490-3  2011-00    30     73  126.798208   \n",
              "704   서울특별시 양천구청      서울특별시 양천구 신월5동 18-19  2018-11    30      3  126.830245   \n",
              "\n",
              "                       소재지도로명주소         위도 설치목적구분           촬영방면정보  \\\n",
              "0                           NaN  37.586655   재난재해  서울 강서구 개화동 행주대교   \n",
              "1            서울특별시 강서구 공항대로 69길  37.548465   생활방범              NaN   \n",
              "2            서울특별시 강서구 공항대로 591  37.548002   생활방범              NaN   \n",
              "3         서울특별시 강서구 강서로45길 5 2층  37.547816   생활방범              NaN   \n",
              "4                           NaN  37.551217  어린이보호          360도전방면   \n",
              "..                          ...        ...    ...              ...   \n",
              "700           인천광역시 부평구 수변로 189  37.529476   생활방범         360도 전방면   \n",
              "701   서울특별시 강서구 개화동로8길 17 (개화동)  37.576980  시설물관리           주차장 내부   \n",
              "702     서울특별시 강서구 양천로 22  (방화동)  37.572362  시설물관리           주차장 내부   \n",
              "703  서울특별시 강서구 개화동로8길 19  (개화동)  37.577917  시설물관리           주차장 내부   \n",
              "704           서울특별시 양천구 월정로 270  37.541534  어린이보호          360도 전방   \n",
              "\n",
              "        데이터기준일자  카메라화소수      관리기관전화번호  \n",
              "0    2018-03-07     NaN  02-2100-5397  \n",
              "1    2017-04-19   200.0  02-2657-0010  \n",
              "2    2017-04-19    30.0  02-6711-0115  \n",
              "3    2017-04-19    41.0  02-2603-5817  \n",
              "4    2018-02-19   200.0  02-2600-1884  \n",
              "..          ...     ...           ...  \n",
              "700  2018-02-14   130.0  032-509-6112  \n",
              "701  2017-11-15    41.0  02-2290-6449  \n",
              "702  2017-11-15    41.0  02-2290-6449  \n",
              "703  2017-11-15    41.0  02-2290-6449  \n",
              "704  2018-07-31   200.0  02-2620-4793  \n",
              "\n",
              "[705 rows x 13 columns]"
            ],
            "text/html": [
              "\n",
              "  <div id=\"df-bba244c9-8b76-46f6-941d-8f79c41a10b6\">\n",
              "    <div class=\"colab-df-container\">\n",
              "      <div>\n",
              "<style scoped>\n",
              "    .dataframe tbody tr th:only-of-type {\n",
              "        vertical-align: middle;\n",
              "    }\n",
              "\n",
              "    .dataframe tbody tr th {\n",
              "        vertical-align: top;\n",
              "    }\n",
              "\n",
              "    .dataframe thead th {\n",
              "        text-align: right;\n",
              "    }\n",
              "</style>\n",
              "<table border=\"1\" class=\"dataframe\">\n",
              "  <thead>\n",
              "    <tr style=\"text-align: right;\">\n",
              "      <th></th>\n",
              "      <th>관리기관명</th>\n",
              "      <th>소재지지번주소</th>\n",
              "      <th>설치년월</th>\n",
              "      <th>보관일수</th>\n",
              "      <th>카메라대수</th>\n",
              "      <th>경도</th>\n",
              "      <th>소재지도로명주소</th>\n",
              "      <th>위도</th>\n",
              "      <th>설치목적구분</th>\n",
              "      <th>촬영방면정보</th>\n",
              "      <th>데이터기준일자</th>\n",
              "      <th>카메라화소수</th>\n",
              "      <th>관리기관전화번호</th>\n",
              "    </tr>\n",
              "  </thead>\n",
              "  <tbody>\n",
              "    <tr>\n",
              "      <th>0</th>\n",
              "      <td>서울특별시 시청</td>\n",
              "      <td>서울특별시 강서구 개화동 224번지</td>\n",
              "      <td>NaN</td>\n",
              "      <td>0</td>\n",
              "      <td>1</td>\n",
              "      <td>126.801000</td>\n",
              "      <td>NaN</td>\n",
              "      <td>37.586655</td>\n",
              "      <td>재난재해</td>\n",
              "      <td>서울 강서구 개화동 행주대교</td>\n",
              "      <td>2018-03-07</td>\n",
              "      <td>NaN</td>\n",
              "      <td>02-2100-5397</td>\n",
              "    </tr>\n",
              "    <tr>\n",
              "      <th>1</th>\n",
              "      <td>중앙혈액검사센터</td>\n",
              "      <td>서울특별시 강서구 염창동 280-21</td>\n",
              "      <td>2008-10</td>\n",
              "      <td>30</td>\n",
              "      <td>16</td>\n",
              "      <td>126.871295</td>\n",
              "      <td>서울특별시 강서구 공항대로 69길</td>\n",
              "      <td>37.548465</td>\n",
              "      <td>생활방범</td>\n",
              "      <td>NaN</td>\n",
              "      <td>2017-04-19</td>\n",
              "      <td>200.0</td>\n",
              "      <td>02-2657-0010</td>\n",
              "    </tr>\n",
              "    <tr>\n",
              "      <th>2</th>\n",
              "      <td>서울서부혈액원</td>\n",
              "      <td>서울특별시 강서구 염창동 280-14</td>\n",
              "      <td>2011-09</td>\n",
              "      <td>30</td>\n",
              "      <td>16</td>\n",
              "      <td>126.870847</td>\n",
              "      <td>서울특별시 강서구 공항대로 591</td>\n",
              "      <td>37.548002</td>\n",
              "      <td>생활방범</td>\n",
              "      <td>NaN</td>\n",
              "      <td>2017-04-19</td>\n",
              "      <td>30.0</td>\n",
              "      <td>02-6711-0115</td>\n",
              "    </tr>\n",
              "    <tr>\n",
              "      <th>3</th>\n",
              "      <td>서울서부혈액원</td>\n",
              "      <td>서울특별시 강서구 화곡동 1006-1</td>\n",
              "      <td>2012-07</td>\n",
              "      <td>30</td>\n",
              "      <td>8</td>\n",
              "      <td>126.835811</td>\n",
              "      <td>서울특별시 강서구 강서로45길 5 2층</td>\n",
              "      <td>37.547816</td>\n",
              "      <td>생활방범</td>\n",
              "      <td>NaN</td>\n",
              "      <td>2017-04-19</td>\n",
              "      <td>41.0</td>\n",
              "      <td>02-2603-5817</td>\n",
              "    </tr>\n",
              "    <tr>\n",
              "      <th>4</th>\n",
              "      <td>서울특별시 강서구청</td>\n",
              "      <td>서울특별시 강서구 화곡6동 1130-35</td>\n",
              "      <td>2017-12</td>\n",
              "      <td>30</td>\n",
              "      <td>3</td>\n",
              "      <td>126.853601</td>\n",
              "      <td>NaN</td>\n",
              "      <td>37.551217</td>\n",
              "      <td>어린이보호</td>\n",
              "      <td>360도전방면</td>\n",
              "      <td>2018-02-19</td>\n",
              "      <td>200.0</td>\n",
              "      <td>02-2600-1884</td>\n",
              "    </tr>\n",
              "    <tr>\n",
              "      <th>...</th>\n",
              "      <td>...</td>\n",
              "      <td>...</td>\n",
              "      <td>...</td>\n",
              "      <td>...</td>\n",
              "      <td>...</td>\n",
              "      <td>...</td>\n",
              "      <td>...</td>\n",
              "      <td>...</td>\n",
              "      <td>...</td>\n",
              "      <td>...</td>\n",
              "      <td>...</td>\n",
              "      <td>...</td>\n",
              "      <td>...</td>\n",
              "    </tr>\n",
              "    <tr>\n",
              "      <th>700</th>\n",
              "      <td>인천광역시 부평구청</td>\n",
              "      <td>인천광역시 부평구 부개동 499-6 청운공원</td>\n",
              "      <td>Aug-17</td>\n",
              "      <td>30</td>\n",
              "      <td>1</td>\n",
              "      <td>126.853682</td>\n",
              "      <td>인천광역시 부평구 수변로 189</td>\n",
              "      <td>37.529476</td>\n",
              "      <td>생활방범</td>\n",
              "      <td>360도 전방면</td>\n",
              "      <td>2018-02-14</td>\n",
              "      <td>130.0</td>\n",
              "      <td>032-509-6112</td>\n",
              "    </tr>\n",
              "    <tr>\n",
              "      <th>701</th>\n",
              "      <td>서울특별시시설관리공단</td>\n",
              "      <td>서울특별시 강서구 개화동 663</td>\n",
              "      <td>2014-01</td>\n",
              "      <td>30</td>\n",
              "      <td>8</td>\n",
              "      <td>126.798922</td>\n",
              "      <td>서울특별시 강서구 개화동로8길 17 (개화동)</td>\n",
              "      <td>37.576980</td>\n",
              "      <td>시설물관리</td>\n",
              "      <td>주차장 내부</td>\n",
              "      <td>2017-11-15</td>\n",
              "      <td>41.0</td>\n",
              "      <td>02-2290-6449</td>\n",
              "    </tr>\n",
              "    <tr>\n",
              "      <th>702</th>\n",
              "      <td>서울특별시시설관리공단</td>\n",
              "      <td>서울특별시 강서구 방화동 846</td>\n",
              "      <td>2011-00</td>\n",
              "      <td>30</td>\n",
              "      <td>8</td>\n",
              "      <td>126.805774</td>\n",
              "      <td>서울특별시 강서구 양천로 22  (방화동)</td>\n",
              "      <td>37.572362</td>\n",
              "      <td>시설물관리</td>\n",
              "      <td>주차장 내부</td>\n",
              "      <td>2017-11-15</td>\n",
              "      <td>41.0</td>\n",
              "      <td>02-2290-6449</td>\n",
              "    </tr>\n",
              "    <tr>\n",
              "      <th>703</th>\n",
              "      <td>서울특별시시설관리공단</td>\n",
              "      <td>서울특별시 강서구 개화동 490-3</td>\n",
              "      <td>2011-00</td>\n",
              "      <td>30</td>\n",
              "      <td>73</td>\n",
              "      <td>126.798208</td>\n",
              "      <td>서울특별시 강서구 개화동로8길 19  (개화동)</td>\n",
              "      <td>37.577917</td>\n",
              "      <td>시설물관리</td>\n",
              "      <td>주차장 내부</td>\n",
              "      <td>2017-11-15</td>\n",
              "      <td>41.0</td>\n",
              "      <td>02-2290-6449</td>\n",
              "    </tr>\n",
              "    <tr>\n",
              "      <th>704</th>\n",
              "      <td>서울특별시 양천구청</td>\n",
              "      <td>서울특별시 양천구 신월5동 18-19</td>\n",
              "      <td>2018-11</td>\n",
              "      <td>30</td>\n",
              "      <td>3</td>\n",
              "      <td>126.830245</td>\n",
              "      <td>서울특별시 양천구 월정로 270</td>\n",
              "      <td>37.541534</td>\n",
              "      <td>어린이보호</td>\n",
              "      <td>360도 전방</td>\n",
              "      <td>2018-07-31</td>\n",
              "      <td>200.0</td>\n",
              "      <td>02-2620-4793</td>\n",
              "    </tr>\n",
              "  </tbody>\n",
              "</table>\n",
              "<p>705 rows × 13 columns</p>\n",
              "</div>\n",
              "      <button class=\"colab-df-convert\" onclick=\"convertToInteractive('df-bba244c9-8b76-46f6-941d-8f79c41a10b6')\"\n",
              "              title=\"Convert this dataframe to an interactive table.\"\n",
              "              style=\"display:none;\">\n",
              "        \n",
              "  <svg xmlns=\"http://www.w3.org/2000/svg\" height=\"24px\"viewBox=\"0 0 24 24\"\n",
              "       width=\"24px\">\n",
              "    <path d=\"M0 0h24v24H0V0z\" fill=\"none\"/>\n",
              "    <path d=\"M18.56 5.44l.94 2.06.94-2.06 2.06-.94-2.06-.94-.94-2.06-.94 2.06-2.06.94zm-11 1L8.5 8.5l.94-2.06 2.06-.94-2.06-.94L8.5 2.5l-.94 2.06-2.06.94zm10 10l.94 2.06.94-2.06 2.06-.94-2.06-.94-.94-2.06-.94 2.06-2.06.94z\"/><path d=\"M17.41 7.96l-1.37-1.37c-.4-.4-.92-.59-1.43-.59-.52 0-1.04.2-1.43.59L10.3 9.45l-7.72 7.72c-.78.78-.78 2.05 0 2.83L4 21.41c.39.39.9.59 1.41.59.51 0 1.02-.2 1.41-.59l7.78-7.78 2.81-2.81c.8-.78.8-2.07 0-2.86zM5.41 20L4 18.59l7.72-7.72 1.47 1.35L5.41 20z\"/>\n",
              "  </svg>\n",
              "      </button>\n",
              "      \n",
              "  <style>\n",
              "    .colab-df-container {\n",
              "      display:flex;\n",
              "      flex-wrap:wrap;\n",
              "      gap: 12px;\n",
              "    }\n",
              "\n",
              "    .colab-df-convert {\n",
              "      background-color: #E8F0FE;\n",
              "      border: none;\n",
              "      border-radius: 50%;\n",
              "      cursor: pointer;\n",
              "      display: none;\n",
              "      fill: #1967D2;\n",
              "      height: 32px;\n",
              "      padding: 0 0 0 0;\n",
              "      width: 32px;\n",
              "    }\n",
              "\n",
              "    .colab-df-convert:hover {\n",
              "      background-color: #E2EBFA;\n",
              "      box-shadow: 0px 1px 2px rgba(60, 64, 67, 0.3), 0px 1px 3px 1px rgba(60, 64, 67, 0.15);\n",
              "      fill: #174EA6;\n",
              "    }\n",
              "\n",
              "    [theme=dark] .colab-df-convert {\n",
              "      background-color: #3B4455;\n",
              "      fill: #D2E3FC;\n",
              "    }\n",
              "\n",
              "    [theme=dark] .colab-df-convert:hover {\n",
              "      background-color: #434B5C;\n",
              "      box-shadow: 0px 1px 3px 1px rgba(0, 0, 0, 0.15);\n",
              "      filter: drop-shadow(0px 1px 2px rgba(0, 0, 0, 0.3));\n",
              "      fill: #FFFFFF;\n",
              "    }\n",
              "  </style>\n",
              "\n",
              "      <script>\n",
              "        const buttonEl =\n",
              "          document.querySelector('#df-bba244c9-8b76-46f6-941d-8f79c41a10b6 button.colab-df-convert');\n",
              "        buttonEl.style.display =\n",
              "          google.colab.kernel.accessAllowed ? 'block' : 'none';\n",
              "\n",
              "        async function convertToInteractive(key) {\n",
              "          const element = document.querySelector('#df-bba244c9-8b76-46f6-941d-8f79c41a10b6');\n",
              "          const dataTable =\n",
              "            await google.colab.kernel.invokeFunction('convertToInteractive',\n",
              "                                                     [key], {});\n",
              "          if (!dataTable) return;\n",
              "\n",
              "          const docLinkHtml = 'Like what you see? Visit the ' +\n",
              "            '<a target=\"_blank\" href=https://colab.research.google.com/notebooks/data_table.ipynb>data table notebook</a>'\n",
              "            + ' to learn more about interactive tables.';\n",
              "          element.innerHTML = '';\n",
              "          dataTable['output_type'] = 'display_data';\n",
              "          await google.colab.output.renderOutput(dataTable, element);\n",
              "          const docLink = document.createElement('div');\n",
              "          docLink.innerHTML = docLinkHtml;\n",
              "          element.appendChild(docLink);\n",
              "        }\n",
              "      </script>\n",
              "    </div>\n",
              "  </div>\n",
              "  "
            ]
          },
          "metadata": {},
          "execution_count": 12
        }
      ]
    },
    {
      "cell_type": "code",
      "source": [],
      "metadata": {
        "id": "C7w79d2ZaFIV"
      },
      "execution_count": 12,
      "outputs": []
    }
  ]
}