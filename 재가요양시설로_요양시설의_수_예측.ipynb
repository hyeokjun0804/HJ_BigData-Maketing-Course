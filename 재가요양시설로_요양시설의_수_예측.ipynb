{
  "nbformat": 4,
  "nbformat_minor": 0,
  "metadata": {
    "colab": {
      "provenance": [],
      "authorship_tag": "ABX9TyNjObCnI0q7ctXg+ArOoa89",
      "include_colab_link": true
    },
    "kernelspec": {
      "name": "python3",
      "display_name": "Python 3"
    },
    "language_info": {
      "name": "python"
    }
  },
  "cells": [
    {
      "cell_type": "markdown",
      "metadata": {
        "id": "view-in-github",
        "colab_type": "text"
      },
      "source": [
        "<a href=\"https://colab.research.google.com/github/hyeokjun0804/HJ_BigData_Maketing_Course/blob/main/%EC%9E%AC%EA%B0%80%EC%9A%94%EC%96%91%EC%8B%9C%EC%84%A4%EB%A1%9C_%EC%9A%94%EC%96%91%EC%8B%9C%EC%84%A4%EC%9D%98_%EC%88%98_%EC%98%88%EC%B8%A1.ipynb\" target=\"_parent\"><img src=\"https://colab.research.google.com/assets/colab-badge.svg\" alt=\"Open In Colab\"/></a>"
      ]
    },
    {
      "cell_type": "markdown",
      "source": [
        "#재가요양시설로 요양시설의 수 예측"
      ],
      "metadata": {
        "id": "yJNnW3fYEDxb"
      }
    },
    {
      "cell_type": "code",
      "execution_count": 1,
      "metadata": {
        "colab": {
          "base_uri": "https://localhost:8080/"
        },
        "id": "IQjRUjH-qOY3",
        "outputId": "0263871c-127f-4287-ad72-f7d232632e7a"
      },
      "outputs": [
        {
          "output_type": "stream",
          "name": "stdout",
          "text": [
            "Drive already mounted at /content/drive; to attempt to forcibly remount, call drive.mount(\"/content/drive\", force_remount=True).\n"
          ]
        }
      ],
      "source": [
        "from google.colab import drive\n",
        "drive.mount('/content/drive')\n",
        "\n",
        "#구글 드라이브 마운트"
      ]
    },
    {
      "cell_type": "markdown",
      "source": [
        "판다스 함수 호출 및 데이터 로드, 한글 인코딩"
      ],
      "metadata": {
        "id": "Pqkug16prY4A"
      }
    },
    {
      "cell_type": "code",
      "source": [
        "import pandas as pd\n",
        "\n",
        "df = pd.read_csv(\"/content/drive/MyDrive/Colab Notebooks/csv file/2022년_9월_시군구별_장기요양기관_현황.csv\")\n",
        "df\n",
        "\n",
        "# 판다스 불러오고 csv파일을 한글 인코딩하고 df에 입력"
      ],
      "metadata": {
        "colab": {
          "base_uri": "https://localhost:8080/",
          "height": 423
        },
        "id": "d0yGWL3Tqxoa",
        "outputId": "5e2ef131-c2c6-400d-def4-361aac862ceb"
      },
      "execution_count": 2,
      "outputs": [
        {
          "output_type": "execute_result",
          "data": {
            "text/plain": [
              "          시도  노인요양시설  공동생활가정   방문요양   방문목욕  방문간호  주야간보호  단기보호  복지용구\n",
              "0      서울특별시     5.0     3.0   92.0   71.0   9.0   17.0   NaN  18.0\n",
              "1      서울특별시     9.0    13.0  111.0  102.0   4.0   19.0   NaN  20.0\n",
              "2      서울특별시     8.0    23.0   96.0   81.0   6.0   22.0   4.0   9.0\n",
              "3      서울특별시    20.0    14.0  185.0  144.0  10.0   31.0   NaN  30.0\n",
              "4      서울특별시    10.0    19.0  120.0  103.0   9.0   26.0   NaN  13.0\n",
              "..       ...     ...     ...    ...    ...   ...    ...   ...   ...\n",
              "246     경상남도     9.0     NaN   25.0   19.0   NaN   12.0   NaN   NaN\n",
              "247     경상남도     6.0     NaN   23.0   13.0   1.0    7.0   NaN   4.0\n",
              "248  제주특별자치도    19.0     2.0   24.0   19.0   1.0   20.0   NaN   4.0\n",
              "249  제주특별자치도    42.0     8.0   84.0   64.0   8.0   48.0   NaN  24.0\n",
              "250      NaN     NaN     NaN    NaN    NaN   NaN    NaN   NaN   NaN\n",
              "\n",
              "[251 rows x 9 columns]"
            ],
            "text/html": [
              "\n",
              "  <div id=\"df-3962565d-129f-4916-8009-42cd956aad0f\">\n",
              "    <div class=\"colab-df-container\">\n",
              "      <div>\n",
              "<style scoped>\n",
              "    .dataframe tbody tr th:only-of-type {\n",
              "        vertical-align: middle;\n",
              "    }\n",
              "\n",
              "    .dataframe tbody tr th {\n",
              "        vertical-align: top;\n",
              "    }\n",
              "\n",
              "    .dataframe thead th {\n",
              "        text-align: right;\n",
              "    }\n",
              "</style>\n",
              "<table border=\"1\" class=\"dataframe\">\n",
              "  <thead>\n",
              "    <tr style=\"text-align: right;\">\n",
              "      <th></th>\n",
              "      <th>시도</th>\n",
              "      <th>노인요양시설</th>\n",
              "      <th>공동생활가정</th>\n",
              "      <th>방문요양</th>\n",
              "      <th>방문목욕</th>\n",
              "      <th>방문간호</th>\n",
              "      <th>주야간보호</th>\n",
              "      <th>단기보호</th>\n",
              "      <th>복지용구</th>\n",
              "    </tr>\n",
              "  </thead>\n",
              "  <tbody>\n",
              "    <tr>\n",
              "      <th>0</th>\n",
              "      <td>서울특별시</td>\n",
              "      <td>5.0</td>\n",
              "      <td>3.0</td>\n",
              "      <td>92.0</td>\n",
              "      <td>71.0</td>\n",
              "      <td>9.0</td>\n",
              "      <td>17.0</td>\n",
              "      <td>NaN</td>\n",
              "      <td>18.0</td>\n",
              "    </tr>\n",
              "    <tr>\n",
              "      <th>1</th>\n",
              "      <td>서울특별시</td>\n",
              "      <td>9.0</td>\n",
              "      <td>13.0</td>\n",
              "      <td>111.0</td>\n",
              "      <td>102.0</td>\n",
              "      <td>4.0</td>\n",
              "      <td>19.0</td>\n",
              "      <td>NaN</td>\n",
              "      <td>20.0</td>\n",
              "    </tr>\n",
              "    <tr>\n",
              "      <th>2</th>\n",
              "      <td>서울특별시</td>\n",
              "      <td>8.0</td>\n",
              "      <td>23.0</td>\n",
              "      <td>96.0</td>\n",
              "      <td>81.0</td>\n",
              "      <td>6.0</td>\n",
              "      <td>22.0</td>\n",
              "      <td>4.0</td>\n",
              "      <td>9.0</td>\n",
              "    </tr>\n",
              "    <tr>\n",
              "      <th>3</th>\n",
              "      <td>서울특별시</td>\n",
              "      <td>20.0</td>\n",
              "      <td>14.0</td>\n",
              "      <td>185.0</td>\n",
              "      <td>144.0</td>\n",
              "      <td>10.0</td>\n",
              "      <td>31.0</td>\n",
              "      <td>NaN</td>\n",
              "      <td>30.0</td>\n",
              "    </tr>\n",
              "    <tr>\n",
              "      <th>4</th>\n",
              "      <td>서울특별시</td>\n",
              "      <td>10.0</td>\n",
              "      <td>19.0</td>\n",
              "      <td>120.0</td>\n",
              "      <td>103.0</td>\n",
              "      <td>9.0</td>\n",
              "      <td>26.0</td>\n",
              "      <td>NaN</td>\n",
              "      <td>13.0</td>\n",
              "    </tr>\n",
              "    <tr>\n",
              "      <th>...</th>\n",
              "      <td>...</td>\n",
              "      <td>...</td>\n",
              "      <td>...</td>\n",
              "      <td>...</td>\n",
              "      <td>...</td>\n",
              "      <td>...</td>\n",
              "      <td>...</td>\n",
              "      <td>...</td>\n",
              "      <td>...</td>\n",
              "    </tr>\n",
              "    <tr>\n",
              "      <th>246</th>\n",
              "      <td>경상남도</td>\n",
              "      <td>9.0</td>\n",
              "      <td>NaN</td>\n",
              "      <td>25.0</td>\n",
              "      <td>19.0</td>\n",
              "      <td>NaN</td>\n",
              "      <td>12.0</td>\n",
              "      <td>NaN</td>\n",
              "      <td>NaN</td>\n",
              "    </tr>\n",
              "    <tr>\n",
              "      <th>247</th>\n",
              "      <td>경상남도</td>\n",
              "      <td>6.0</td>\n",
              "      <td>NaN</td>\n",
              "      <td>23.0</td>\n",
              "      <td>13.0</td>\n",
              "      <td>1.0</td>\n",
              "      <td>7.0</td>\n",
              "      <td>NaN</td>\n",
              "      <td>4.0</td>\n",
              "    </tr>\n",
              "    <tr>\n",
              "      <th>248</th>\n",
              "      <td>제주특별자치도</td>\n",
              "      <td>19.0</td>\n",
              "      <td>2.0</td>\n",
              "      <td>24.0</td>\n",
              "      <td>19.0</td>\n",
              "      <td>1.0</td>\n",
              "      <td>20.0</td>\n",
              "      <td>NaN</td>\n",
              "      <td>4.0</td>\n",
              "    </tr>\n",
              "    <tr>\n",
              "      <th>249</th>\n",
              "      <td>제주특별자치도</td>\n",
              "      <td>42.0</td>\n",
              "      <td>8.0</td>\n",
              "      <td>84.0</td>\n",
              "      <td>64.0</td>\n",
              "      <td>8.0</td>\n",
              "      <td>48.0</td>\n",
              "      <td>NaN</td>\n",
              "      <td>24.0</td>\n",
              "    </tr>\n",
              "    <tr>\n",
              "      <th>250</th>\n",
              "      <td>NaN</td>\n",
              "      <td>NaN</td>\n",
              "      <td>NaN</td>\n",
              "      <td>NaN</td>\n",
              "      <td>NaN</td>\n",
              "      <td>NaN</td>\n",
              "      <td>NaN</td>\n",
              "      <td>NaN</td>\n",
              "      <td>NaN</td>\n",
              "    </tr>\n",
              "  </tbody>\n",
              "</table>\n",
              "<p>251 rows × 9 columns</p>\n",
              "</div>\n",
              "      <button class=\"colab-df-convert\" onclick=\"convertToInteractive('df-3962565d-129f-4916-8009-42cd956aad0f')\"\n",
              "              title=\"Convert this dataframe to an interactive table.\"\n",
              "              style=\"display:none;\">\n",
              "        \n",
              "  <svg xmlns=\"http://www.w3.org/2000/svg\" height=\"24px\"viewBox=\"0 0 24 24\"\n",
              "       width=\"24px\">\n",
              "    <path d=\"M0 0h24v24H0V0z\" fill=\"none\"/>\n",
              "    <path d=\"M18.56 5.44l.94 2.06.94-2.06 2.06-.94-2.06-.94-.94-2.06-.94 2.06-2.06.94zm-11 1L8.5 8.5l.94-2.06 2.06-.94-2.06-.94L8.5 2.5l-.94 2.06-2.06.94zm10 10l.94 2.06.94-2.06 2.06-.94-2.06-.94-.94-2.06-.94 2.06-2.06.94z\"/><path d=\"M17.41 7.96l-1.37-1.37c-.4-.4-.92-.59-1.43-.59-.52 0-1.04.2-1.43.59L10.3 9.45l-7.72 7.72c-.78.78-.78 2.05 0 2.83L4 21.41c.39.39.9.59 1.41.59.51 0 1.02-.2 1.41-.59l7.78-7.78 2.81-2.81c.8-.78.8-2.07 0-2.86zM5.41 20L4 18.59l7.72-7.72 1.47 1.35L5.41 20z\"/>\n",
              "  </svg>\n",
              "      </button>\n",
              "      \n",
              "  <style>\n",
              "    .colab-df-container {\n",
              "      display:flex;\n",
              "      flex-wrap:wrap;\n",
              "      gap: 12px;\n",
              "    }\n",
              "\n",
              "    .colab-df-convert {\n",
              "      background-color: #E8F0FE;\n",
              "      border: none;\n",
              "      border-radius: 50%;\n",
              "      cursor: pointer;\n",
              "      display: none;\n",
              "      fill: #1967D2;\n",
              "      height: 32px;\n",
              "      padding: 0 0 0 0;\n",
              "      width: 32px;\n",
              "    }\n",
              "\n",
              "    .colab-df-convert:hover {\n",
              "      background-color: #E2EBFA;\n",
              "      box-shadow: 0px 1px 2px rgba(60, 64, 67, 0.3), 0px 1px 3px 1px rgba(60, 64, 67, 0.15);\n",
              "      fill: #174EA6;\n",
              "    }\n",
              "\n",
              "    [theme=dark] .colab-df-convert {\n",
              "      background-color: #3B4455;\n",
              "      fill: #D2E3FC;\n",
              "    }\n",
              "\n",
              "    [theme=dark] .colab-df-convert:hover {\n",
              "      background-color: #434B5C;\n",
              "      box-shadow: 0px 1px 3px 1px rgba(0, 0, 0, 0.15);\n",
              "      filter: drop-shadow(0px 1px 2px rgba(0, 0, 0, 0.3));\n",
              "      fill: #FFFFFF;\n",
              "    }\n",
              "  </style>\n",
              "\n",
              "      <script>\n",
              "        const buttonEl =\n",
              "          document.querySelector('#df-3962565d-129f-4916-8009-42cd956aad0f button.colab-df-convert');\n",
              "        buttonEl.style.display =\n",
              "          google.colab.kernel.accessAllowed ? 'block' : 'none';\n",
              "\n",
              "        async function convertToInteractive(key) {\n",
              "          const element = document.querySelector('#df-3962565d-129f-4916-8009-42cd956aad0f');\n",
              "          const dataTable =\n",
              "            await google.colab.kernel.invokeFunction('convertToInteractive',\n",
              "                                                     [key], {});\n",
              "          if (!dataTable) return;\n",
              "\n",
              "          const docLinkHtml = 'Like what you see? Visit the ' +\n",
              "            '<a target=\"_blank\" href=https://colab.research.google.com/notebooks/data_table.ipynb>data table notebook</a>'\n",
              "            + ' to learn more about interactive tables.';\n",
              "          element.innerHTML = '';\n",
              "          dataTable['output_type'] = 'display_data';\n",
              "          await google.colab.output.renderOutput(dataTable, element);\n",
              "          const docLink = document.createElement('div');\n",
              "          docLink.innerHTML = docLinkHtml;\n",
              "          element.appendChild(docLink);\n",
              "        }\n",
              "      </script>\n",
              "    </div>\n",
              "  </div>\n",
              "  "
            ]
          },
          "metadata": {},
          "execution_count": 2
        }
      ]
    },
    {
      "cell_type": "markdown",
      "source": [
        "기술통계 및 null값 확인과 제거"
      ],
      "metadata": {
        "id": "3tpsby6Ervez"
      }
    },
    {
      "cell_type": "code",
      "source": [
        "df.info()\n",
        "\n",
        "# df 정보 불러오기기"
      ],
      "metadata": {
        "colab": {
          "base_uri": "https://localhost:8080/"
        },
        "id": "MqWZSRAArcQY",
        "outputId": "6cd6212c-3f1f-4b3a-9ce8-9b8e31b4c7e0"
      },
      "execution_count": 3,
      "outputs": [
        {
          "output_type": "stream",
          "name": "stdout",
          "text": [
            "<class 'pandas.core.frame.DataFrame'>\n",
            "RangeIndex: 251 entries, 0 to 250\n",
            "Data columns (total 9 columns):\n",
            " #   Column  Non-Null Count  Dtype  \n",
            "---  ------  --------------  -----  \n",
            " 0   시도      250 non-null    object \n",
            " 1   노인요양시설  250 non-null    float64\n",
            " 2   공동생활가정  221 non-null    float64\n",
            " 3   방문요양    250 non-null    float64\n",
            " 4   방문목욕    248 non-null    float64\n",
            " 5   방문간호    200 non-null    float64\n",
            " 6   주야간보호   248 non-null    float64\n",
            " 7   단기보호    78 non-null     float64\n",
            " 8   복지용구    239 non-null    float64\n",
            "dtypes: float64(8), object(1)\n",
            "memory usage: 17.8+ KB\n"
          ]
        }
      ]
    },
    {
      "cell_type": "code",
      "source": [
        "df.isnull().sum()\n",
        "\n",
        "# df null값 확인"
      ],
      "metadata": {
        "colab": {
          "base_uri": "https://localhost:8080/"
        },
        "id": "cjcJy_BSrtyW",
        "outputId": "f6ade6e7-3d39-45f7-9dfe-7432b397f7fd"
      },
      "execution_count": 4,
      "outputs": [
        {
          "output_type": "execute_result",
          "data": {
            "text/plain": [
              "시도          1\n",
              "노인요양시설      1\n",
              "공동생활가정     30\n",
              "방문요양        1\n",
              "방문목욕        3\n",
              "방문간호       51\n",
              "주야간보호       3\n",
              "단기보호      173\n",
              "복지용구       12\n",
              "dtype: int64"
            ]
          },
          "metadata": {},
          "execution_count": 4
        }
      ]
    },
    {
      "cell_type": "code",
      "source": [
        "df.fillna(0, inplace = True)\n",
        "\n",
        "# df null값 삭제"
      ],
      "metadata": {
        "id": "xEwJohILryrm"
      },
      "execution_count": 5,
      "outputs": []
    },
    {
      "cell_type": "code",
      "source": [
        "df.isnull().sum()\n",
        "\n",
        "# df null값 삭제됐는지 확인"
      ],
      "metadata": {
        "colab": {
          "base_uri": "https://localhost:8080/"
        },
        "id": "ruSiiokZr0R-",
        "outputId": "89af9274-ccb3-45db-cf40-18a2df073a4b"
      },
      "execution_count": 6,
      "outputs": [
        {
          "output_type": "execute_result",
          "data": {
            "text/plain": [
              "시도        0\n",
              "노인요양시설    0\n",
              "공동생활가정    0\n",
              "방문요양      0\n",
              "방문목욕      0\n",
              "방문간호      0\n",
              "주야간보호     0\n",
              "단기보호      0\n",
              "복지용구      0\n",
              "dtype: int64"
            ]
          },
          "metadata": {},
          "execution_count": 6
        }
      ]
    },
    {
      "cell_type": "code",
      "source": [
        "df['노인요양시설_공동생활'] = df['노인요양시설'] + df['공동생활가정'] "
      ],
      "metadata": {
        "id": "XO6A2011s7Gl"
      },
      "execution_count": 7,
      "outputs": []
    },
    {
      "cell_type": "code",
      "source": [
        "df.describe()\n",
        "\n",
        "# df 기술통계"
      ],
      "metadata": {
        "colab": {
          "base_uri": "https://localhost:8080/",
          "height": 361
        },
        "id": "lmu9qNnFr2NE",
        "outputId": "46f2877b-40dc-45a7-df64-7124ce8d0ace"
      },
      "execution_count": 8,
      "outputs": [
        {
          "output_type": "execute_result",
          "data": {
            "text/plain": [
              "           노인요양시설      공동생활가정        방문요양        방문목욕        방문간호       주야간보호  \\\n",
              "count  251.000000  251.000000  251.000000  251.000000  251.000000  251.000000   \n",
              "mean    17.179283    7.143426   66.350598   46.498008    3.250996   19.972112   \n",
              "std     18.422479    8.694098   47.418357   36.394217    3.171868   15.046435   \n",
              "min      0.000000    0.000000    0.000000    0.000000    0.000000    0.000000   \n",
              "25%      6.000000    1.000000   29.000000   19.000000    1.000000    8.500000   \n",
              "50%     11.000000    4.000000   55.000000   35.000000    2.000000   17.000000   \n",
              "75%     21.000000    9.000000   92.000000   66.500000    5.000000   27.500000   \n",
              "max    129.000000   55.000000  236.000000  199.000000   16.000000   88.000000   \n",
              "\n",
              "             단기보호        복지용구  노인요양시설_공동생활  \n",
              "count  251.000000  251.000000   251.000000  \n",
              "mean     0.533865    7.860558    24.322709  \n",
              "std      1.204097    6.745701    25.482925  \n",
              "min      0.000000    0.000000     0.000000  \n",
              "25%      0.000000    2.000000     8.000000  \n",
              "50%      0.000000    6.000000    18.000000  \n",
              "75%      1.000000   12.000000    30.500000  \n",
              "max     10.000000   38.000000   184.000000  "
            ],
            "text/html": [
              "\n",
              "  <div id=\"df-72a2f46d-e26f-4b63-9229-f90690059a39\">\n",
              "    <div class=\"colab-df-container\">\n",
              "      <div>\n",
              "<style scoped>\n",
              "    .dataframe tbody tr th:only-of-type {\n",
              "        vertical-align: middle;\n",
              "    }\n",
              "\n",
              "    .dataframe tbody tr th {\n",
              "        vertical-align: top;\n",
              "    }\n",
              "\n",
              "    .dataframe thead th {\n",
              "        text-align: right;\n",
              "    }\n",
              "</style>\n",
              "<table border=\"1\" class=\"dataframe\">\n",
              "  <thead>\n",
              "    <tr style=\"text-align: right;\">\n",
              "      <th></th>\n",
              "      <th>노인요양시설</th>\n",
              "      <th>공동생활가정</th>\n",
              "      <th>방문요양</th>\n",
              "      <th>방문목욕</th>\n",
              "      <th>방문간호</th>\n",
              "      <th>주야간보호</th>\n",
              "      <th>단기보호</th>\n",
              "      <th>복지용구</th>\n",
              "      <th>노인요양시설_공동생활</th>\n",
              "    </tr>\n",
              "  </thead>\n",
              "  <tbody>\n",
              "    <tr>\n",
              "      <th>count</th>\n",
              "      <td>251.000000</td>\n",
              "      <td>251.000000</td>\n",
              "      <td>251.000000</td>\n",
              "      <td>251.000000</td>\n",
              "      <td>251.000000</td>\n",
              "      <td>251.000000</td>\n",
              "      <td>251.000000</td>\n",
              "      <td>251.000000</td>\n",
              "      <td>251.000000</td>\n",
              "    </tr>\n",
              "    <tr>\n",
              "      <th>mean</th>\n",
              "      <td>17.179283</td>\n",
              "      <td>7.143426</td>\n",
              "      <td>66.350598</td>\n",
              "      <td>46.498008</td>\n",
              "      <td>3.250996</td>\n",
              "      <td>19.972112</td>\n",
              "      <td>0.533865</td>\n",
              "      <td>7.860558</td>\n",
              "      <td>24.322709</td>\n",
              "    </tr>\n",
              "    <tr>\n",
              "      <th>std</th>\n",
              "      <td>18.422479</td>\n",
              "      <td>8.694098</td>\n",
              "      <td>47.418357</td>\n",
              "      <td>36.394217</td>\n",
              "      <td>3.171868</td>\n",
              "      <td>15.046435</td>\n",
              "      <td>1.204097</td>\n",
              "      <td>6.745701</td>\n",
              "      <td>25.482925</td>\n",
              "    </tr>\n",
              "    <tr>\n",
              "      <th>min</th>\n",
              "      <td>0.000000</td>\n",
              "      <td>0.000000</td>\n",
              "      <td>0.000000</td>\n",
              "      <td>0.000000</td>\n",
              "      <td>0.000000</td>\n",
              "      <td>0.000000</td>\n",
              "      <td>0.000000</td>\n",
              "      <td>0.000000</td>\n",
              "      <td>0.000000</td>\n",
              "    </tr>\n",
              "    <tr>\n",
              "      <th>25%</th>\n",
              "      <td>6.000000</td>\n",
              "      <td>1.000000</td>\n",
              "      <td>29.000000</td>\n",
              "      <td>19.000000</td>\n",
              "      <td>1.000000</td>\n",
              "      <td>8.500000</td>\n",
              "      <td>0.000000</td>\n",
              "      <td>2.000000</td>\n",
              "      <td>8.000000</td>\n",
              "    </tr>\n",
              "    <tr>\n",
              "      <th>50%</th>\n",
              "      <td>11.000000</td>\n",
              "      <td>4.000000</td>\n",
              "      <td>55.000000</td>\n",
              "      <td>35.000000</td>\n",
              "      <td>2.000000</td>\n",
              "      <td>17.000000</td>\n",
              "      <td>0.000000</td>\n",
              "      <td>6.000000</td>\n",
              "      <td>18.000000</td>\n",
              "    </tr>\n",
              "    <tr>\n",
              "      <th>75%</th>\n",
              "      <td>21.000000</td>\n",
              "      <td>9.000000</td>\n",
              "      <td>92.000000</td>\n",
              "      <td>66.500000</td>\n",
              "      <td>5.000000</td>\n",
              "      <td>27.500000</td>\n",
              "      <td>1.000000</td>\n",
              "      <td>12.000000</td>\n",
              "      <td>30.500000</td>\n",
              "    </tr>\n",
              "    <tr>\n",
              "      <th>max</th>\n",
              "      <td>129.000000</td>\n",
              "      <td>55.000000</td>\n",
              "      <td>236.000000</td>\n",
              "      <td>199.000000</td>\n",
              "      <td>16.000000</td>\n",
              "      <td>88.000000</td>\n",
              "      <td>10.000000</td>\n",
              "      <td>38.000000</td>\n",
              "      <td>184.000000</td>\n",
              "    </tr>\n",
              "  </tbody>\n",
              "</table>\n",
              "</div>\n",
              "      <button class=\"colab-df-convert\" onclick=\"convertToInteractive('df-72a2f46d-e26f-4b63-9229-f90690059a39')\"\n",
              "              title=\"Convert this dataframe to an interactive table.\"\n",
              "              style=\"display:none;\">\n",
              "        \n",
              "  <svg xmlns=\"http://www.w3.org/2000/svg\" height=\"24px\"viewBox=\"0 0 24 24\"\n",
              "       width=\"24px\">\n",
              "    <path d=\"M0 0h24v24H0V0z\" fill=\"none\"/>\n",
              "    <path d=\"M18.56 5.44l.94 2.06.94-2.06 2.06-.94-2.06-.94-.94-2.06-.94 2.06-2.06.94zm-11 1L8.5 8.5l.94-2.06 2.06-.94-2.06-.94L8.5 2.5l-.94 2.06-2.06.94zm10 10l.94 2.06.94-2.06 2.06-.94-2.06-.94-.94-2.06-.94 2.06-2.06.94z\"/><path d=\"M17.41 7.96l-1.37-1.37c-.4-.4-.92-.59-1.43-.59-.52 0-1.04.2-1.43.59L10.3 9.45l-7.72 7.72c-.78.78-.78 2.05 0 2.83L4 21.41c.39.39.9.59 1.41.59.51 0 1.02-.2 1.41-.59l7.78-7.78 2.81-2.81c.8-.78.8-2.07 0-2.86zM5.41 20L4 18.59l7.72-7.72 1.47 1.35L5.41 20z\"/>\n",
              "  </svg>\n",
              "      </button>\n",
              "      \n",
              "  <style>\n",
              "    .colab-df-container {\n",
              "      display:flex;\n",
              "      flex-wrap:wrap;\n",
              "      gap: 12px;\n",
              "    }\n",
              "\n",
              "    .colab-df-convert {\n",
              "      background-color: #E8F0FE;\n",
              "      border: none;\n",
              "      border-radius: 50%;\n",
              "      cursor: pointer;\n",
              "      display: none;\n",
              "      fill: #1967D2;\n",
              "      height: 32px;\n",
              "      padding: 0 0 0 0;\n",
              "      width: 32px;\n",
              "    }\n",
              "\n",
              "    .colab-df-convert:hover {\n",
              "      background-color: #E2EBFA;\n",
              "      box-shadow: 0px 1px 2px rgba(60, 64, 67, 0.3), 0px 1px 3px 1px rgba(60, 64, 67, 0.15);\n",
              "      fill: #174EA6;\n",
              "    }\n",
              "\n",
              "    [theme=dark] .colab-df-convert {\n",
              "      background-color: #3B4455;\n",
              "      fill: #D2E3FC;\n",
              "    }\n",
              "\n",
              "    [theme=dark] .colab-df-convert:hover {\n",
              "      background-color: #434B5C;\n",
              "      box-shadow: 0px 1px 3px 1px rgba(0, 0, 0, 0.15);\n",
              "      filter: drop-shadow(0px 1px 2px rgba(0, 0, 0, 0.3));\n",
              "      fill: #FFFFFF;\n",
              "    }\n",
              "  </style>\n",
              "\n",
              "      <script>\n",
              "        const buttonEl =\n",
              "          document.querySelector('#df-72a2f46d-e26f-4b63-9229-f90690059a39 button.colab-df-convert');\n",
              "        buttonEl.style.display =\n",
              "          google.colab.kernel.accessAllowed ? 'block' : 'none';\n",
              "\n",
              "        async function convertToInteractive(key) {\n",
              "          const element = document.querySelector('#df-72a2f46d-e26f-4b63-9229-f90690059a39');\n",
              "          const dataTable =\n",
              "            await google.colab.kernel.invokeFunction('convertToInteractive',\n",
              "                                                     [key], {});\n",
              "          if (!dataTable) return;\n",
              "\n",
              "          const docLinkHtml = 'Like what you see? Visit the ' +\n",
              "            '<a target=\"_blank\" href=https://colab.research.google.com/notebooks/data_table.ipynb>data table notebook</a>'\n",
              "            + ' to learn more about interactive tables.';\n",
              "          element.innerHTML = '';\n",
              "          dataTable['output_type'] = 'display_data';\n",
              "          await google.colab.output.renderOutput(dataTable, element);\n",
              "          const docLink = document.createElement('div');\n",
              "          docLink.innerHTML = docLinkHtml;\n",
              "          element.appendChild(docLink);\n",
              "        }\n",
              "      </script>\n",
              "    </div>\n",
              "  </div>\n",
              "  "
            ]
          },
          "metadata": {},
          "execution_count": 8
        }
      ]
    },
    {
      "cell_type": "markdown",
      "source": [
        "박스플롯으로 이상치 확인"
      ],
      "metadata": {
        "id": "wxsQbjHrsDvW"
      }
    },
    {
      "cell_type": "code",
      "source": [
        "df.boxplot(column=\"노인요양시설_공동생활\", return_type=\"both\")\n",
        "#boxplot: 최솟값,Q1(lower), Q2(중앙값), Q3(upper), 최댓값\n",
        "#통계를 낼 때 평균이나 표준편차를 많이 사용하는데 데이터에 이상치가 있으면 왜곡된 의미 전달 가능성 높음\n",
        "#이상치가 있는지 확인하기 위해 박스플롯을 활용하여 이상치가 얼마나 포함되어 있는지 판단"
      ],
      "metadata": {
        "colab": {
          "base_uri": "https://localhost:8080/",
          "height": 1000
        },
        "id": "4FevNoQJr3nb",
        "outputId": "2356d91b-50cc-4df3-bf29-1e777b9a84fd"
      },
      "execution_count": 9,
      "outputs": [
        {
          "output_type": "execute_result",
          "data": {
            "text/plain": [
              "BP(ax=<matplotlib.axes._subplots.AxesSubplot object at 0x7fa73ee9c7c0>, lines={'whiskers': [<matplotlib.lines.Line2D object at 0x7fa73ee0a460>, <matplotlib.lines.Line2D object at 0x7fa73ee0a7c0>], 'caps': [<matplotlib.lines.Line2D object at 0x7fa73ee0ab20>, <matplotlib.lines.Line2D object at 0x7fa73ee0ae80>], 'boxes': [<matplotlib.lines.Line2D object at 0x7fa73ee0a100>], 'medians': [<matplotlib.lines.Line2D object at 0x7fa73ee18220>], 'fliers': [<matplotlib.lines.Line2D object at 0x7fa73ee18520>], 'means': []})"
            ]
          },
          "metadata": {},
          "execution_count": 9
        },
        {
          "output_type": "stream",
          "name": "stderr",
          "text": [
            "/usr/local/lib/python3.8/dist-packages/matplotlib/backends/backend_agg.py:214: RuntimeWarning: Glyph 45432 missing from current font.\n",
            "  font.set_text(s, 0.0, flags=flags)\n",
            "/usr/local/lib/python3.8/dist-packages/matplotlib/backends/backend_agg.py:214: RuntimeWarning: Glyph 51064 missing from current font.\n",
            "  font.set_text(s, 0.0, flags=flags)\n",
            "/usr/local/lib/python3.8/dist-packages/matplotlib/backends/backend_agg.py:214: RuntimeWarning: Glyph 50836 missing from current font.\n",
            "  font.set_text(s, 0.0, flags=flags)\n",
            "/usr/local/lib/python3.8/dist-packages/matplotlib/backends/backend_agg.py:214: RuntimeWarning: Glyph 50577 missing from current font.\n",
            "  font.set_text(s, 0.0, flags=flags)\n",
            "/usr/local/lib/python3.8/dist-packages/matplotlib/backends/backend_agg.py:214: RuntimeWarning: Glyph 49884 missing from current font.\n",
            "  font.set_text(s, 0.0, flags=flags)\n",
            "/usr/local/lib/python3.8/dist-packages/matplotlib/backends/backend_agg.py:214: RuntimeWarning: Glyph 49444 missing from current font.\n",
            "  font.set_text(s, 0.0, flags=flags)\n",
            "/usr/local/lib/python3.8/dist-packages/matplotlib/backends/backend_agg.py:214: RuntimeWarning: Glyph 44277 missing from current font.\n",
            "  font.set_text(s, 0.0, flags=flags)\n",
            "/usr/local/lib/python3.8/dist-packages/matplotlib/backends/backend_agg.py:214: RuntimeWarning: Glyph 46041 missing from current font.\n",
            "  font.set_text(s, 0.0, flags=flags)\n",
            "/usr/local/lib/python3.8/dist-packages/matplotlib/backends/backend_agg.py:214: RuntimeWarning: Glyph 49373 missing from current font.\n",
            "  font.set_text(s, 0.0, flags=flags)\n",
            "/usr/local/lib/python3.8/dist-packages/matplotlib/backends/backend_agg.py:214: RuntimeWarning: Glyph 54876 missing from current font.\n",
            "  font.set_text(s, 0.0, flags=flags)\n",
            "/usr/local/lib/python3.8/dist-packages/matplotlib/backends/backend_agg.py:183: RuntimeWarning: Glyph 45432 missing from current font.\n",
            "  font.set_text(s, 0, flags=flags)\n",
            "/usr/local/lib/python3.8/dist-packages/matplotlib/backends/backend_agg.py:183: RuntimeWarning: Glyph 51064 missing from current font.\n",
            "  font.set_text(s, 0, flags=flags)\n",
            "/usr/local/lib/python3.8/dist-packages/matplotlib/backends/backend_agg.py:183: RuntimeWarning: Glyph 50836 missing from current font.\n",
            "  font.set_text(s, 0, flags=flags)\n",
            "/usr/local/lib/python3.8/dist-packages/matplotlib/backends/backend_agg.py:183: RuntimeWarning: Glyph 50577 missing from current font.\n",
            "  font.set_text(s, 0, flags=flags)\n",
            "/usr/local/lib/python3.8/dist-packages/matplotlib/backends/backend_agg.py:183: RuntimeWarning: Glyph 49884 missing from current font.\n",
            "  font.set_text(s, 0, flags=flags)\n",
            "/usr/local/lib/python3.8/dist-packages/matplotlib/backends/backend_agg.py:183: RuntimeWarning: Glyph 49444 missing from current font.\n",
            "  font.set_text(s, 0, flags=flags)\n",
            "/usr/local/lib/python3.8/dist-packages/matplotlib/backends/backend_agg.py:183: RuntimeWarning: Glyph 44277 missing from current font.\n",
            "  font.set_text(s, 0, flags=flags)\n",
            "/usr/local/lib/python3.8/dist-packages/matplotlib/backends/backend_agg.py:183: RuntimeWarning: Glyph 46041 missing from current font.\n",
            "  font.set_text(s, 0, flags=flags)\n",
            "/usr/local/lib/python3.8/dist-packages/matplotlib/backends/backend_agg.py:183: RuntimeWarning: Glyph 49373 missing from current font.\n",
            "  font.set_text(s, 0, flags=flags)\n",
            "/usr/local/lib/python3.8/dist-packages/matplotlib/backends/backend_agg.py:183: RuntimeWarning: Glyph 54876 missing from current font.\n",
            "  font.set_text(s, 0, flags=flags)\n"
          ]
        },
        {
          "output_type": "display_data",
          "data": {
            "text/plain": [
              "<Figure size 432x288 with 1 Axes>"
            ],
            "image/png": "[encoded data removed]"
          },
          "metadata": {
            "needs_background": "light"
          }
        }
      ]
    },
    {
      "cell_type": "code",
      "source": [
        "df[\"노인요양시설_공동생활\"].hist() #hist는 막대그래프"
      ],
      "metadata": {
        "colab": {
          "base_uri": "https://localhost:8080/",
          "height": 283
        },
        "id": "IoUl3Lrlr5WK",
        "outputId": "8fb4f1aa-2d3d-42e1-eb14-3abf6646af3d"
      },
      "execution_count": 10,
      "outputs": [
        {
          "output_type": "execute_result",
          "data": {
            "text/plain": [
              "<matplotlib.axes._subplots.AxesSubplot at 0x7fa73f29ccd0>"
            ]
          },
          "metadata": {},
          "execution_count": 10
        },
        {
          "output_type": "display_data",
          "data": {
            "text/plain": [
              "<Figure size 432x288 with 1 Axes>"
            ],
            "image/png": "[encoded data removed]"
          },
          "metadata": {
            "needs_background": "light"
          }
        }
      ]
    },
    {
      "cell_type": "code",
      "source": [
        "df.groupby"
      ],
      "metadata": {
        "colab": {
          "base_uri": "https://localhost:8080/"
        },
        "id": "_NCJq2gLr9EG",
        "outputId": "e11d80e0-5897-45c6-93e2-d04704defdfe"
      },
      "execution_count": 11,
      "outputs": [
        {
          "output_type": "execute_result",
          "data": {
            "text/plain": [
              "<bound method DataFrame.groupby of           시도  노인요양시설  공동생활가정   방문요양   방문목욕  방문간호  주야간보호  단기보호  복지용구  \\\n",
              "0      서울특별시     5.0     3.0   92.0   71.0   9.0   17.0   0.0  18.0   \n",
              "1      서울특별시     9.0    13.0  111.0  102.0   4.0   19.0   0.0  20.0   \n",
              "2      서울특별시     8.0    23.0   96.0   81.0   6.0   22.0   4.0   9.0   \n",
              "3      서울특별시    20.0    14.0  185.0  144.0  10.0   31.0   0.0  30.0   \n",
              "4      서울특별시    10.0    19.0  120.0  103.0   9.0   26.0   0.0  13.0   \n",
              "..       ...     ...     ...    ...    ...   ...    ...   ...   ...   \n",
              "246     경상남도     9.0     0.0   25.0   19.0   0.0   12.0   0.0   0.0   \n",
              "247     경상남도     6.0     0.0   23.0   13.0   1.0    7.0   0.0   4.0   \n",
              "248  제주특별자치도    19.0     2.0   24.0   19.0   1.0   20.0   0.0   4.0   \n",
              "249  제주특별자치도    42.0     8.0   84.0   64.0   8.0   48.0   0.0  24.0   \n",
              "250        0     0.0     0.0    0.0    0.0   0.0    0.0   0.0   0.0   \n",
              "\n",
              "     노인요양시설_공동생활  \n",
              "0            8.0  \n",
              "1           22.0  \n",
              "2           31.0  \n",
              "3           34.0  \n",
              "4           29.0  \n",
              "..           ...  \n",
              "246          9.0  \n",
              "247          6.0  \n",
              "248         21.0  \n",
              "249         50.0  \n",
              "250          0.0  \n",
              "\n",
              "[251 rows x 10 columns]>"
            ]
          },
          "metadata": {},
          "execution_count": 11
        }
      ]
    },
    {
      "cell_type": "code",
      "source": [
        "!sudo apt-get install -y fonts-nanum #폰트 다운로드 리눅스 명령어\n",
        "!sudo fc-cache -f -vv\n",
        "!rm ~/.cache/matplotlib -rf"
      ],
      "metadata": {
        "colab": {
          "base_uri": "https://localhost:8080/"
        },
        "id": "4Q-bx_g0vHzz",
        "outputId": "15b1f65f-9831-4307-d566-db589a70588d"
      },
      "execution_count": 12,
      "outputs": [
        {
          "output_type": "stream",
          "name": "stdout",
          "text": [
            "Reading package lists... Done\n",
            "Building dependency tree       \n",
            "Reading state information... Done\n",
            "fonts-nanum is already the newest version (20180306-3).\n",
            "0 upgraded, 0 newly installed, 0 to remove and 23 not upgraded.\n",
            "/usr/share/fonts: caching, new cache contents: 0 fonts, 1 dirs\n",
            "/usr/share/fonts/truetype: caching, new cache contents: 0 fonts, 3 dirs\n",
            "/usr/share/fonts/truetype/humor-sans: caching, new cache contents: 1 fonts, 0 dirs\n",
            "/usr/share/fonts/truetype/liberation: caching, new cache contents: 16 fonts, 0 dirs\n",
            "/usr/share/fonts/truetype/nanum: caching, new cache contents: 10 fonts, 0 dirs\n",
            "/usr/local/share/fonts: caching, new cache contents: 0 fonts, 0 dirs\n",
            "/root/.local/share/fonts: skipping, no such directory\n",
            "/root/.fonts: skipping, no such directory\n",
            "/usr/share/fonts/truetype: skipping, looped directory detected\n",
            "/usr/share/fonts/truetype/humor-sans: skipping, looped directory detected\n",
            "/usr/share/fonts/truetype/liberation: skipping, looped directory detected\n",
            "/usr/share/fonts/truetype/nanum: skipping, looped directory detected\n",
            "/var/cache/fontconfig: cleaning cache directory\n",
            "/root/.cache/fontconfig: not cleaning non-existent cache directory\n",
            "/root/.fontconfig: not cleaning non-existent cache directory\n",
            "fc-cache: succeeded\n"
          ]
        }
      ]
    },
    {
      "cell_type": "code",
      "source": [
        "import matplotlib.pyplot as plt\n",
        "plt.rc('font', family = 'NanumBarunGothic') #폰트 지정"
      ],
      "metadata": {
        "id": "ZFB1VMQcvL0p"
      },
      "execution_count": 13,
      "outputs": []
    },
    {
      "cell_type": "markdown",
      "source": [
        "#회귀분석모델 돌려보기"
      ],
      "metadata": {
        "id": "JqKtgUfTw2xF"
      }
    },
    {
      "cell_type": "code",
      "source": [
        "import seaborn as sns\n",
        "import pandas as pd\n",
        "from sklearn.model_selection import train_test_split\n",
        "from sklearn.model_selection import cross_val_score\n",
        "from sklearn.neighbors import KNeighborsRegressor"
      ],
      "metadata": {
        "id": "055anDNWvaOz"
      },
      "execution_count": 17,
      "outputs": []
    },
    {
      "cell_type": "markdown",
      "source": [
        "로그 씌워서 정규분포 모양으로 만들었습니다."
      ],
      "metadata": {
        "id": "FpDRyckPwg3X"
      }
    },
    {
      "cell_type": "code",
      "source": [
        "import numpy as np\n",
        "\n",
        "df[\"노인요양시설_공동생활\"] = np.log1p(df[\"노인요양시설_공동생활\"])\n",
        "sns.distplot(df[\"노인요양시설_공동생활\"])"
      ],
      "metadata": {
        "colab": {
          "base_uri": "https://localhost:8080/",
          "height": 354
        },
        "id": "iYroi8xDvhMo",
        "outputId": "8e0b75ce-11cd-43f3-9632-46aea362e891"
      },
      "execution_count": 18,
      "outputs": [
        {
          "output_type": "stream",
          "name": "stderr",
          "text": [
            "/usr/local/lib/python3.8/dist-packages/seaborn/distributions.py:2619: FutureWarning: `distplot` is a deprecated function and will be removed in a future version. Please adapt your code to use either `displot` (a figure-level function with similar flexibility) or `histplot` (an axes-level function for histograms).\n",
            "  warnings.warn(msg, FutureWarning)\n"
          ]
        },
        {
          "output_type": "execute_result",
          "data": {
            "text/plain": [
              "<matplotlib.axes._subplots.AxesSubplot at 0x7fa7359752b0>"
            ]
          },
          "metadata": {},
          "execution_count": 18
        },
        {
          "output_type": "display_data",
          "data": {
            "text/plain": [
              "<Figure size 432x288 with 1 Axes>"
            ],
            "image/png": "[encoded data removed]"
          },
          "metadata": {
            "needs_background": "light"
          }
        }
      ]
    },
    {
      "cell_type": "markdown",
      "source": [
        "#knn 모델"
      ],
      "metadata": {
        "id": "7kmN0q87w8Lo"
      }
    },
    {
      "cell_type": "code",
      "source": [
        "from sklearn.model_selection import train_test_split\n",
        "from sklearn.compose import ColumnTransformer\n",
        "from sklearn.preprocessing import StandardScaler\n",
        "from sklearn.metrics import mean_squared_error\n",
        "from math import sqrt"
      ],
      "metadata": {
        "id": "me71GiI4vw8x"
      },
      "execution_count": 19,
      "outputs": []
    },
    {
      "cell_type": "code",
      "source": [
        "# 변수선택\n",
        "X = df[['방문요양', '방문목욕', '주야간보호','복지용구']]\n",
        "Y = df[\"노인요양시설_공동생활\"]"
      ],
      "metadata": {
        "id": "LbGJs6xe13Dd"
      },
      "execution_count": 20,
      "outputs": []
    },
    {
      "cell_type": "code",
      "source": [
        "#numeric value(Y)\n",
        "\n",
        "import numpy as np\n",
        "\n",
        "X_train, X_test, Y_train, Y_test = train_test_split(X, Y, test_size=0.3, random_state=0)\n",
        "\n",
        "scaler = StandardScaler().fit(X_train, Y_train)\n",
        "X_test = scaler.transform(X_test)\n",
        "X_train  = scaler.transform(X_train)\n",
        "\n",
        "from sklearn.neighbors import KNeighborsRegressor\n",
        "knn_reg = KNeighborsRegressor(n_neighbors=2, p=1)\n",
        "#p : int, default=2\n",
        "#Power parameter for the Minkowski metric. When p = 1, \n",
        "#this is equivalent to using manhattan_distance (l1), and euclidean_distance(l2) for p = 2. For arbitrary p, minkowski_distance \n",
        "\n",
        "knn_reg.fit(X_train, Y_train)\n",
        "Y_pred = knn_reg.predict(X_test)\n",
        "print(\"accuracy: {:.3f}\".format(knn_reg.score(X_train, Y_train)))\n",
        "rmse = sqrt(mean_squared_error(Y_test, Y_pred))\n",
        "print(\"RMSE: {:.3f}\".format(rmse))"
      ],
      "metadata": {
        "colab": {
          "base_uri": "https://localhost:8080/"
        },
        "id": "soJ7ZB0R18uJ",
        "outputId": "53e87477-48c8-43e5-bad3-94c50e5bfd4a"
      },
      "execution_count": 21,
      "outputs": [
        {
          "output_type": "stream",
          "name": "stdout",
          "text": [
            "accuracy: 0.794\n",
            "RMSE: 0.196\n"
          ]
        }
      ]
    },
    {
      "cell_type": "markdown",
      "source": [
        "선형회귀"
      ],
      "metadata": {
        "id": "zbNduJ1O2GSV"
      }
    },
    {
      "cell_type": "code",
      "source": [
        "from sklearn.linear_model import LinearRegression\n",
        "\n",
        "# 모델 생성\n",
        "model = LinearRegression()\n",
        "\n",
        "# 학습\n",
        "model.fit(X, Y)\n",
        "\n",
        "# 예측\n",
        "print(model.predict(X))"
      ],
      "metadata": {
        "colab": {
          "base_uri": "https://localhost:8080/"
        },
        "id": "SeQ272km2B0L",
        "outputId": "dbe6c423-5c8f-4db0-ea45-d855ac6806c8"
      },
      "execution_count": 22,
      "outputs": [
        {
          "output_type": "stream",
          "name": "stdout",
          "text": [
            "[1.34425137 1.42190414 1.38796402 1.56866372 1.46015641 1.31015776\n",
            " 1.37358414 1.24493073 1.5242454  1.51356276 1.46010883 1.30706982\n",
            " 1.32584285 1.31428207 1.24395737 1.23814018 1.42597808 1.42421621\n",
            " 1.51351131 1.34422105 1.18941294 1.4912327  1.14513458 1.16411697\n",
            " 1.48987136 1.16574612 1.32295467 1.27360282 1.24743844 1.17707833\n",
            " 1.34874657 1.30748425 1.34647681 1.23433027 1.34939022 1.13389369\n",
            " 1.19873001 1.26635424 1.18913831 1.14872832 1.40873393 1.34388416\n",
            " 1.78739991 1.34748349 1.71341933 1.68850239 1.3573603  1.49120098\n",
            " 1.19849525 1.16787248 1.43057674 1.78312079 1.16078976 1.51980888\n",
            " 1.50750777 1.63240812 1.41693059 1.08391868 1.24428753 1.53850242\n",
            " 1.31848874 1.20679223 1.73721977 1.32868332 1.30788932 1.42919839\n",
            " 1.6637789  1.43500685 1.61399953 1.39534664 1.18449889 1.29380651\n",
            " 1.37333902 1.33506093 1.28367531 1.23346044 1.58805418 1.38891044\n",
            " 1.41905377 1.12759161 1.2848682  1.48002467 1.30725848 1.31353601\n",
            " 1.48247415 2.09829338 1.24755456 1.89075418 1.41935485 1.30678451\n",
            " 1.21728792 1.35985387 1.23799205 1.30885836 1.29635004 1.51074048\n",
            " 1.2633002  1.37650696 1.33443095 1.29642899 1.40734803 1.51084297\n",
            " 1.19736402 1.23073739 1.16975684 1.25597104 1.43801589 1.38792393\n",
            " 1.28487397 1.20681422 1.7254605  1.29456939 1.63523872 1.71530874\n",
            " 1.39873316 1.38030278 1.76198794 1.41681046 1.11880616 1.15968349\n",
            " 1.1310795  1.20993208 1.10005339 1.15984653 1.08549084 1.39780889\n",
            " 1.09161919 1.08147561 1.14121071 1.46332531 1.11798774 1.13240626\n",
            " 1.12035931 1.08905235 1.19400031 1.14653838 1.09518625 1.12286043\n",
            " 1.15106212 1.1815573  1.24488528 1.25288778 1.13613508 1.26340951\n",
            " 1.42811048 1.46321054 1.51207668 1.41708344 1.22188281 1.16064595\n",
            " 1.18571957 1.31068941 1.5527679  1.4451936  1.20435666 1.27278012\n",
            " 1.35983401 1.18910609 1.41420199 1.25222108 1.36781669 1.52563983\n",
            " 1.15035961 1.15177681 1.33862476 1.21943991 1.5969814  1.36071069\n",
            " 1.29416009 1.14403726 1.26799235 1.12286043 1.29737485 1.71652646\n",
            " 1.17761912 1.13204282 1.55150237 1.6886982  1.44053745 1.14891122\n",
            " 1.16008725 1.2816503  1.22057054 1.31319607 1.20540383 1.40016486\n",
            " 1.15495358 1.35224813 1.18154962 1.15401139 1.54704971 1.11319851\n",
            " 1.39300602 1.15061932 1.16357727 1.11143664 1.13725994 1.15369918\n",
            " 1.13438216 1.1532777  1.16286812 1.19551997 1.7147719  1.5328525\n",
            " 1.13026772 1.79299386 1.1335102  1.47419512 1.2393534  1.09312562\n",
            " 1.35847916 1.19023031 1.2634752  1.23106987 1.1003131  1.17259345\n",
            " 1.37226748 1.1279271  1.07571197 1.18485697 1.1539254  1.27756936\n",
            " 1.11989111 1.25151856 1.38201412 1.35522386 1.28621759 1.28001924\n",
            " 1.15023689 1.5615615  1.19013427 1.36393954 1.29558266 1.21284335\n",
            " 1.46987069 1.15163405 1.54469342 1.19870314 1.30456534 1.23201056\n",
            " 1.16617633 1.36507676 1.2251756  1.20623548 1.1894183  1.18503837\n",
            " 1.20759359 1.15780595 1.29666015 1.65143852 1.0785063 ]\n"
          ]
        }
      ]
    },
    {
      "cell_type": "code",
      "source": [
        "from sklearn.linear_model import LinearRegression\n",
        "from sklearn.metrics import mean_squared_error\n",
        "from math import sqrt\n",
        "lr = LinearRegression().fit(X_train, Y_train)\n",
        "\n",
        "Y_pred = lr.predict(X_test)\n",
        "print(\"predict value\\n\", Y_pred)\n",
        "print(\"train R2 : {:.3f}\".format(lr.score(X_train, Y_train)))\n",
        "print(\"train R2 : {:.3f}\".format(lr.score(X_test, Y_test)))\n",
        "\n",
        "rmse = sqrt(mean_squared_error(Y_test, Y_pred))\n",
        "print(\"RMSE: {:.3f}\".format(rmse))\n",
        "print(\"절편\", np.round(lr.intercept_, 3))\n",
        "print(\"가중치(beta)\", np.round(lr.coef_, 3))"
      ],
      "metadata": {
        "colab": {
          "base_uri": "https://localhost:8080/"
        },
        "id": "wnR6YjW12EiY",
        "outputId": "3b680bfa-0c12-4eb7-eff1-061b8c5b39b2"
      },
      "execution_count": 23,
      "outputs": [
        {
          "output_type": "stream",
          "name": "stdout",
          "text": [
            "predict value\n",
            " [1.42895146 1.08999112 1.22471576 1.38907543 1.15026529 1.14107243\n",
            " 1.54088343 1.29285693 1.34886879 1.43034783 1.25688672 1.3479577\n",
            " 1.27050756 1.35398054 1.74871977 1.33307652 1.12766834 1.50876253\n",
            " 1.42792583 1.25914641 1.18232996 1.70331723 1.30609433 1.27909539\n",
            " 1.14289585 1.21741711 1.49213558 1.60282605 1.18006282 1.26155761\n",
            " 1.15017258 1.56685307 1.71236851 1.5758256  1.45757603 1.11725064\n",
            " 1.62229303 1.30413706 1.14963586 1.08163362 1.10830784 1.31547876\n",
            " 1.36475242 1.26278245 1.2910569  1.35779833 1.12170945 1.70635975\n",
            " 1.28385374 1.15042661 1.28236595 1.50638376 1.26257899 1.22478288\n",
            " 1.53651682 1.49530709 1.27247138 1.49168731 1.18041641 1.22570411\n",
            " 1.10235291 1.28768282 1.23055239 1.13856852 1.20152121 1.18921504\n",
            " 1.24008485 1.14717142 1.40968416 1.35505476 1.35276037 1.22633651\n",
            " 1.11725064 1.39619055 1.0916313  1.41390897]\n",
            "train R2 : 0.468\n",
            "train R2 : 0.544\n",
            "RMSE: 0.152\n",
            "절편 1.307\n",
            "가중치(beta) [-0.039  0.062  0.138  0.032]\n"
          ]
        }
      ]
    },
    {
      "cell_type": "markdown",
      "source": [
        "#머신러닝, 딥러닝 모델 돌려보기"
      ],
      "metadata": {
        "id": "YwlcRBx-2NPW"
      }
    },
    {
      "cell_type": "code",
      "source": [
        "from matplotlib import pyplot as plt\n",
        "#matplotlib: 정적, 애니메이션 및 대화형 시각화를 생성하기 위한 포괄적인 라이브러리\n",
        "#pyplot:matplotlib가 MATLAB처럼 작동하도록 하는 함수 모음\n",
        "from pandas import DataFrame\n",
        "#pandas:오픈 소스 데이터 분석 및 조작 도구\n",
        "#DataFrame:행과 열로 이루어진 데이터 객체를 만들어 다룰 수 있으며 안정적으로 대용량의 데이터들을 처리하는데 매우 편리한 도구\n",
        "import numpy as np\n",
        "#numpy:행렬/배열 처리 및 연산\n",
        "from pandas import *"
      ],
      "metadata": {
        "id": "AJlGqwHL2JOJ"
      },
      "execution_count": 24,
      "outputs": []
    },
    {
      "cell_type": "code",
      "source": [
        "from sklearn.model_selection import train_test_split\n",
        "from sklearn.compose import ColumnTransformer\n",
        "from sklearn.preprocessing import StandardScaler\n",
        "from sklearn.preprocessing import OneHotEncoder\n",
        "from imblearn.over_sampling import SMOTE\n",
        "\n",
        "# 트레인셋 나누는 것과 칼럼트랜스포머, 스케일러 모듈 불러오기"
      ],
      "metadata": {
        "id": "LtItSbLt2Mky"
      },
      "execution_count": 25,
      "outputs": []
    },
    {
      "cell_type": "code",
      "source": [
        "df.columns\n",
        "\n",
        "# 칼럼 확인해보기"
      ],
      "metadata": {
        "colab": {
          "base_uri": "https://localhost:8080/"
        },
        "id": "-HRff82M2Qhd",
        "outputId": "713df048-7e16-4128-b284-bfb0d47511b1"
      },
      "execution_count": 26,
      "outputs": [
        {
          "output_type": "execute_result",
          "data": {
            "text/plain": [
              "Index(['시도', '노인요양시설', '공동생활가정', '방문요양', '방문목욕', '방문간호', '주야간보호', '단기보호',\n",
              "       '복지용구', '노인요양시설_공동생활'],\n",
              "      dtype='object')"
            ]
          },
          "metadata": {},
          "execution_count": 26
        }
      ]
    },
    {
      "cell_type": "code",
      "source": [
        "import numpy as np\n",
        "\n",
        "#1. 변수선택\n",
        "X = df[['방문요양', '방문목욕', '주야간보호','복지용구']]\n",
        "Y = df[\"노인요양시설_공동생활\"]\n",
        "\n",
        "#2. train = test split\n",
        "X_train, X_test, Y_train, Y_test = train_test_split(X, Y, test_size=0.3, random_state=0)\n",
        "\n",
        "#3. 데이터 전처리(preprocessing)\n",
        "ct = ColumnTransformer([(\"scaling\", StandardScaler(), ['방문요양', '방문목욕', '주야간보호','복지용구'])])\n",
        "ct.fit(X_train)\n",
        "X_train = ct.transform(X_train)\n",
        "X_test = ct.transform(X_test)"
      ],
      "metadata": {
        "id": "umTAelXK2SES"
      },
      "execution_count": 27,
      "outputs": []
    },
    {
      "cell_type": "code",
      "source": [
        "#4. 모델링\n",
        "from sklearn.neural_network import MLPRegressor\n",
        "\n",
        "#4-1. 모델 생성\n",
        "MLP_Reg_model = MLPRegressor(random_state=0, alpha=1, max_iter=1000, hidden_layer_sizes=[50, 50])\n",
        "                            \n",
        "#5. 모형학습 및 예측\n",
        "MLP_Reg_model.fit(X_train, Y_train)\n",
        "Y_pred = MLP_Reg_model.predict(X_test)\n",
        "\n",
        "#6. 결과값 보고\n",
        "print(\"Y predict value: \\n\", Y_pred)\n",
        "print(\"tain accuracy : {:.3f}\".format(MLP_Reg_model.score(X_train, Y_train)))\n",
        "from sklearn.metrics import mean_squared_error\n",
        "from math import sqrt\n",
        "rmse = sqrt(mean_squared_error(Y_test, Y_pred))\n",
        "print(\"RMSE : {:3f}\".format(rmse))"
      ],
      "metadata": {
        "colab": {
          "base_uri": "https://localhost:8080/"
        },
        "id": "5qzfOX8U2Vyl",
        "outputId": "749e493d-7fc5-48da-dfe5-1e3e7ec9e554"
      },
      "execution_count": 28,
      "outputs": [
        {
          "output_type": "stream",
          "name": "stdout",
          "text": [
            "Y predict value: \n",
            " [1.49467372 0.94676946 1.16643824 1.44964706 1.08293052 1.08838088\n",
            " 1.54574922 1.35739158 1.37175197 1.48316938 1.3549634  1.40727471\n",
            " 1.26425832 1.36727496 1.63096321 1.40598533 1.06232781 1.53057742\n",
            " 1.43447431 1.21339746 1.2368743  1.54532948 1.38201795 1.2440728\n",
            " 1.08384865 1.17762351 1.51391287 1.57477524 1.21569802 1.22784982\n",
            " 1.11733893 1.55906896 1.58056225 1.47251811 1.48635665 1.04634946\n",
            " 1.51881662 1.23996885 1.11660709 0.93299643 0.99491152 1.31395404\n",
            " 1.4343528  1.2300434  1.3189706  1.40860644 1.03058362 1.57110987\n",
            " 1.3745875  1.10946472 1.4061381  1.53102977 1.34841849 1.27428092\n",
            " 1.5028811  1.52381259 1.33039153 1.51557499 1.11662728 1.27187122\n",
            " 1.01203249 1.33626599 1.25813874 1.09933749 1.1869327  1.27426061\n",
            " 1.30697892 1.11255481 1.46915791 1.39288403 1.374268   1.23065404\n",
            " 1.04634946 1.41642521 0.99097044 1.48459887]\n",
            "tain accuracy : 0.591\n",
            "RMSE : 0.145829\n"
          ]
        }
      ]
    },
    {
      "cell_type": "code",
      "source": [
        "Y_pred_df = pd.DataFrame(Y_pred)\n",
        "Y_pred_df"
      ],
      "metadata": {
        "colab": {
          "base_uri": "https://localhost:8080/",
          "height": 423
        },
        "id": "XH7nJLKy2Yfn",
        "outputId": "1cf09670-8c50-45bb-ea63-e0bccd95d60f"
      },
      "execution_count": 29,
      "outputs": [
        {
          "output_type": "execute_result",
          "data": {
            "text/plain": [
              "           0\n",
              "0   1.494674\n",
              "1   0.946769\n",
              "2   1.166438\n",
              "3   1.449647\n",
              "4   1.082931\n",
              "..       ...\n",
              "71  1.230654\n",
              "72  1.046349\n",
              "73  1.416425\n",
              "74  0.990970\n",
              "75  1.484599\n",
              "\n",
              "[76 rows x 1 columns]"
            ],
            "text/html": [
              "\n",
              "  <div id=\"df-9d6dbc3d-c3cd-4806-8a23-02a55a06182b\">\n",
              "    <div class=\"colab-df-container\">\n",
              "      <div>\n",
              "<style scoped>\n",
              "    .dataframe tbody tr th:only-of-type {\n",
              "        vertical-align: middle;\n",
              "    }\n",
              "\n",
              "    .dataframe tbody tr th {\n",
              "        vertical-align: top;\n",
              "    }\n",
              "\n",
              "    .dataframe thead th {\n",
              "        text-align: right;\n",
              "    }\n",
              "</style>\n",
              "<table border=\"1\" class=\"dataframe\">\n",
              "  <thead>\n",
              "    <tr style=\"text-align: right;\">\n",
              "      <th></th>\n",
              "      <th>0</th>\n",
              "    </tr>\n",
              "  </thead>\n",
              "  <tbody>\n",
              "    <tr>\n",
              "      <th>0</th>\n",
              "      <td>1.494674</td>\n",
              "    </tr>\n",
              "    <tr>\n",
              "      <th>1</th>\n",
              "      <td>0.946769</td>\n",
              "    </tr>\n",
              "    <tr>\n",
              "      <th>2</th>\n",
              "      <td>1.166438</td>\n",
              "    </tr>\n",
              "    <tr>\n",
              "      <th>3</th>\n",
              "      <td>1.449647</td>\n",
              "    </tr>\n",
              "    <tr>\n",
              "      <th>4</th>\n",
              "      <td>1.082931</td>\n",
              "    </tr>\n",
              "    <tr>\n",
              "      <th>...</th>\n",
              "      <td>...</td>\n",
              "    </tr>\n",
              "    <tr>\n",
              "      <th>71</th>\n",
              "      <td>1.230654</td>\n",
              "    </tr>\n",
              "    <tr>\n",
              "      <th>72</th>\n",
              "      <td>1.046349</td>\n",
              "    </tr>\n",
              "    <tr>\n",
              "      <th>73</th>\n",
              "      <td>1.416425</td>\n",
              "    </tr>\n",
              "    <tr>\n",
              "      <th>74</th>\n",
              "      <td>0.990970</td>\n",
              "    </tr>\n",
              "    <tr>\n",
              "      <th>75</th>\n",
              "      <td>1.484599</td>\n",
              "    </tr>\n",
              "  </tbody>\n",
              "</table>\n",
              "<p>76 rows × 1 columns</p>\n",
              "</div>\n",
              "      <button class=\"colab-df-convert\" onclick=\"convertToInteractive('df-9d6dbc3d-c3cd-4806-8a23-02a55a06182b')\"\n",
              "              title=\"Convert this dataframe to an interactive table.\"\n",
              "              style=\"display:none;\">\n",
              "        \n",
              "  <svg xmlns=\"http://www.w3.org/2000/svg\" height=\"24px\"viewBox=\"0 0 24 24\"\n",
              "       width=\"24px\">\n",
              "    <path d=\"M0 0h24v24H0V0z\" fill=\"none\"/>\n",
              "    <path d=\"M18.56 5.44l.94 2.06.94-2.06 2.06-.94-2.06-.94-.94-2.06-.94 2.06-2.06.94zm-11 1L8.5 8.5l.94-2.06 2.06-.94-2.06-.94L8.5 2.5l-.94 2.06-2.06.94zm10 10l.94 2.06.94-2.06 2.06-.94-2.06-.94-.94-2.06-.94 2.06-2.06.94z\"/><path d=\"M17.41 7.96l-1.37-1.37c-.4-.4-.92-.59-1.43-.59-.52 0-1.04.2-1.43.59L10.3 9.45l-7.72 7.72c-.78.78-.78 2.05 0 2.83L4 21.41c.39.39.9.59 1.41.59.51 0 1.02-.2 1.41-.59l7.78-7.78 2.81-2.81c.8-.78.8-2.07 0-2.86zM5.41 20L4 18.59l7.72-7.72 1.47 1.35L5.41 20z\"/>\n",
              "  </svg>\n",
              "      </button>\n",
              "      \n",
              "  <style>\n",
              "    .colab-df-container {\n",
              "      display:flex;\n",
              "      flex-wrap:wrap;\n",
              "      gap: 12px;\n",
              "    }\n",
              "\n",
              "    .colab-df-convert {\n",
              "      background-color: #E8F0FE;\n",
              "      border: none;\n",
              "      border-radius: 50%;\n",
              "      cursor: pointer;\n",
              "      display: none;\n",
              "      fill: #1967D2;\n",
              "      height: 32px;\n",
              "      padding: 0 0 0 0;\n",
              "      width: 32px;\n",
              "    }\n",
              "\n",
              "    .colab-df-convert:hover {\n",
              "      background-color: #E2EBFA;\n",
              "      box-shadow: 0px 1px 2px rgba(60, 64, 67, 0.3), 0px 1px 3px 1px rgba(60, 64, 67, 0.15);\n",
              "      fill: #174EA6;\n",
              "    }\n",
              "\n",
              "    [theme=dark] .colab-df-convert {\n",
              "      background-color: #3B4455;\n",
              "      fill: #D2E3FC;\n",
              "    }\n",
              "\n",
              "    [theme=dark] .colab-df-convert:hover {\n",
              "      background-color: #434B5C;\n",
              "      box-shadow: 0px 1px 3px 1px rgba(0, 0, 0, 0.15);\n",
              "      filter: drop-shadow(0px 1px 2px rgba(0, 0, 0, 0.3));\n",
              "      fill: #FFFFFF;\n",
              "    }\n",
              "  </style>\n",
              "\n",
              "      <script>\n",
              "        const buttonEl =\n",
              "          document.querySelector('#df-9d6dbc3d-c3cd-4806-8a23-02a55a06182b button.colab-df-convert');\n",
              "        buttonEl.style.display =\n",
              "          google.colab.kernel.accessAllowed ? 'block' : 'none';\n",
              "\n",
              "        async function convertToInteractive(key) {\n",
              "          const element = document.querySelector('#df-9d6dbc3d-c3cd-4806-8a23-02a55a06182b');\n",
              "          const dataTable =\n",
              "            await google.colab.kernel.invokeFunction('convertToInteractive',\n",
              "                                                     [key], {});\n",
              "          if (!dataTable) return;\n",
              "\n",
              "          const docLinkHtml = 'Like what you see? Visit the ' +\n",
              "            '<a target=\"_blank\" href=https://colab.research.google.com/notebooks/data_table.ipynb>data table notebook</a>'\n",
              "            + ' to learn more about interactive tables.';\n",
              "          element.innerHTML = '';\n",
              "          dataTable['output_type'] = 'display_data';\n",
              "          await google.colab.output.renderOutput(dataTable, element);\n",
              "          const docLink = document.createElement('div');\n",
              "          docLink.innerHTML = docLinkHtml;\n",
              "          element.appendChild(docLink);\n",
              "        }\n",
              "      </script>\n",
              "    </div>\n",
              "  </div>\n",
              "  "
            ]
          },
          "metadata": {},
          "execution_count": 29
        }
      ]
    },
    {
      "cell_type": "code",
      "source": [
        "Y_test_df = pd.DataFrame(Y_test)\n",
        "Y_test_df = Y_test_df.reset_index()\n",
        "Y_test_df = pd.DataFrame(Y_test_df[\"노인요양시설_공동생활\"])\n",
        "Y_test_df"
      ],
      "metadata": {
        "colab": {
          "base_uri": "https://localhost:8080/",
          "height": 423
        },
        "id": "FRixNEQn2a0D",
        "outputId": "ec10800c-6831-4dc7-fe93-8f06a74c876b"
      },
      "execution_count": 30,
      "outputs": [
        {
          "output_type": "execute_result",
          "data": {
            "text/plain": [
              "    노인요양시설_공동생활\n",
              "0      1.408800\n",
              "1      1.026672\n",
              "2      1.162283\n",
              "3      1.534194\n",
              "4      1.194706\n",
              "..          ...\n",
              "71     1.248441\n",
              "72     1.026672\n",
              "73     1.419607\n",
              "74     1.026672\n",
              "75     1.637663\n",
              "\n",
              "[76 rows x 1 columns]"
            ],
            "text/html": [
              "\n",
              "  <div id=\"df-b92875ae-4e08-4000-822d-74ab14fca080\">\n",
              "    <div class=\"colab-df-container\">\n",
              "      <div>\n",
              "<style scoped>\n",
              "    .dataframe tbody tr th:only-of-type {\n",
              "        vertical-align: middle;\n",
              "    }\n",
              "\n",
              "    .dataframe tbody tr th {\n",
              "        vertical-align: top;\n",
              "    }\n",
              "\n",
              "    .dataframe thead th {\n",
              "        text-align: right;\n",
              "    }\n",
              "</style>\n",
              "<table border=\"1\" class=\"dataframe\">\n",
              "  <thead>\n",
              "    <tr style=\"text-align: right;\">\n",
              "      <th></th>\n",
              "      <th>노인요양시설_공동생활</th>\n",
              "    </tr>\n",
              "  </thead>\n",
              "  <tbody>\n",
              "    <tr>\n",
              "      <th>0</th>\n",
              "      <td>1.408800</td>\n",
              "    </tr>\n",
              "    <tr>\n",
              "      <th>1</th>\n",
              "      <td>1.026672</td>\n",
              "    </tr>\n",
              "    <tr>\n",
              "      <th>2</th>\n",
              "      <td>1.162283</td>\n",
              "    </tr>\n",
              "    <tr>\n",
              "      <th>3</th>\n",
              "      <td>1.534194</td>\n",
              "    </tr>\n",
              "    <tr>\n",
              "      <th>4</th>\n",
              "      <td>1.194706</td>\n",
              "    </tr>\n",
              "    <tr>\n",
              "      <th>...</th>\n",
              "      <td>...</td>\n",
              "    </tr>\n",
              "    <tr>\n",
              "      <th>71</th>\n",
              "      <td>1.248441</td>\n",
              "    </tr>\n",
              "    <tr>\n",
              "      <th>72</th>\n",
              "      <td>1.026672</td>\n",
              "    </tr>\n",
              "    <tr>\n",
              "      <th>73</th>\n",
              "      <td>1.419607</td>\n",
              "    </tr>\n",
              "    <tr>\n",
              "      <th>74</th>\n",
              "      <td>1.026672</td>\n",
              "    </tr>\n",
              "    <tr>\n",
              "      <th>75</th>\n",
              "      <td>1.637663</td>\n",
              "    </tr>\n",
              "  </tbody>\n",
              "</table>\n",
              "<p>76 rows × 1 columns</p>\n",
              "</div>\n",
              "      <button class=\"colab-df-convert\" onclick=\"convertToInteractive('df-b92875ae-4e08-4000-822d-74ab14fca080')\"\n",
              "              title=\"Convert this dataframe to an interactive table.\"\n",
              "              style=\"display:none;\">\n",
              "        \n",
              "  <svg xmlns=\"http://www.w3.org/2000/svg\" height=\"24px\"viewBox=\"0 0 24 24\"\n",
              "       width=\"24px\">\n",
              "    <path d=\"M0 0h24v24H0V0z\" fill=\"none\"/>\n",
              "    <path d=\"M18.56 5.44l.94 2.06.94-2.06 2.06-.94-2.06-.94-.94-2.06-.94 2.06-2.06.94zm-11 1L8.5 8.5l.94-2.06 2.06-.94-2.06-.94L8.5 2.5l-.94 2.06-2.06.94zm10 10l.94 2.06.94-2.06 2.06-.94-2.06-.94-.94-2.06-.94 2.06-2.06.94z\"/><path d=\"M17.41 7.96l-1.37-1.37c-.4-.4-.92-.59-1.43-.59-.52 0-1.04.2-1.43.59L10.3 9.45l-7.72 7.72c-.78.78-.78 2.05 0 2.83L4 21.41c.39.39.9.59 1.41.59.51 0 1.02-.2 1.41-.59l7.78-7.78 2.81-2.81c.8-.78.8-2.07 0-2.86zM5.41 20L4 18.59l7.72-7.72 1.47 1.35L5.41 20z\"/>\n",
              "  </svg>\n",
              "      </button>\n",
              "      \n",
              "  <style>\n",
              "    .colab-df-container {\n",
              "      display:flex;\n",
              "      flex-wrap:wrap;\n",
              "      gap: 12px;\n",
              "    }\n",
              "\n",
              "    .colab-df-convert {\n",
              "      background-color: #E8F0FE;\n",
              "      border: none;\n",
              "      border-radius: 50%;\n",
              "      cursor: pointer;\n",
              "      display: none;\n",
              "      fill: #1967D2;\n",
              "      height: 32px;\n",
              "      padding: 0 0 0 0;\n",
              "      width: 32px;\n",
              "    }\n",
              "\n",
              "    .colab-df-convert:hover {\n",
              "      background-color: #E2EBFA;\n",
              "      box-shadow: 0px 1px 2px rgba(60, 64, 67, 0.3), 0px 1px 3px 1px rgba(60, 64, 67, 0.15);\n",
              "      fill: #174EA6;\n",
              "    }\n",
              "\n",
              "    [theme=dark] .colab-df-convert {\n",
              "      background-color: #3B4455;\n",
              "      fill: #D2E3FC;\n",
              "    }\n",
              "\n",
              "    [theme=dark] .colab-df-convert:hover {\n",
              "      background-color: #434B5C;\n",
              "      box-shadow: 0px 1px 3px 1px rgba(0, 0, 0, 0.15);\n",
              "      filter: drop-shadow(0px 1px 2px rgba(0, 0, 0, 0.3));\n",
              "      fill: #FFFFFF;\n",
              "    }\n",
              "  </style>\n",
              "\n",
              "      <script>\n",
              "        const buttonEl =\n",
              "          document.querySelector('#df-b92875ae-4e08-4000-822d-74ab14fca080 button.colab-df-convert');\n",
              "        buttonEl.style.display =\n",
              "          google.colab.kernel.accessAllowed ? 'block' : 'none';\n",
              "\n",
              "        async function convertToInteractive(key) {\n",
              "          const element = document.querySelector('#df-b92875ae-4e08-4000-822d-74ab14fca080');\n",
              "          const dataTable =\n",
              "            await google.colab.kernel.invokeFunction('convertToInteractive',\n",
              "                                                     [key], {});\n",
              "          if (!dataTable) return;\n",
              "\n",
              "          const docLinkHtml = 'Like what you see? Visit the ' +\n",
              "            '<a target=\"_blank\" href=https://colab.research.google.com/notebooks/data_table.ipynb>data table notebook</a>'\n",
              "            + ' to learn more about interactive tables.';\n",
              "          element.innerHTML = '';\n",
              "          dataTable['output_type'] = 'display_data';\n",
              "          await google.colab.output.renderOutput(dataTable, element);\n",
              "          const docLink = document.createElement('div');\n",
              "          docLink.innerHTML = docLinkHtml;\n",
              "          element.appendChild(docLink);\n",
              "        }\n",
              "      </script>\n",
              "    </div>\n",
              "  </div>\n",
              "  "
            ]
          },
          "metadata": {},
          "execution_count": 30
        }
      ]
    },
    {
      "cell_type": "markdown",
      "source": [
        "matplotlib로 예측값과 실제값을 비교해봤습니다."
      ],
      "metadata": {
        "id": "D5tqDQW_20UF"
      }
    },
    {
      "cell_type": "code",
      "source": [
        "import matplotlib.pyplot as plt\n",
        "\n",
        "%matplotlib inline\n",
        "plt.plot(Y_pred_df)\n",
        "plt.plot(Y_test_df)"
      ],
      "metadata": {
        "colab": {
          "base_uri": "https://localhost:8080/",
          "height": 285
        },
        "id": "u-kWJ3Dn2eFx",
        "outputId": "96877b86-3485-4903-a75e-995c616f988e"
      },
      "execution_count": 31,
      "outputs": [
        {
          "output_type": "execute_result",
          "data": {
            "text/plain": [
              "[<matplotlib.lines.Line2D at 0x7fa7307dd340>]"
            ]
          },
          "metadata": {},
          "execution_count": 31
        },
        {
          "output_type": "display_data",
          "data": {
            "text/plain": [
              "<Figure size 432x288 with 1 Axes>"
            ],
            "image/png": "[encoded data removed]"
          },
          "metadata": {
            "needs_background": "light"
          }
        }
      ]
    },
    {
      "cell_type": "markdown",
      "source": [
        "#DNN(Deep learning : Deep Neural Network)"
      ],
      "metadata": {
        "id": "8O-f4KET27Ww"
      }
    },
    {
      "cell_type": "markdown",
      "source": [
        "#회귀예측"
      ],
      "metadata": {
        "id": "dI9aTx-L2-VF"
      }
    },
    {
      "cell_type": "code",
      "source": [
        "import warnings\n",
        "warnings.filterwarnings(\"ignore\")\n",
        "\n",
        "# 딥러닝 할 때 경고문이 잘 떠서 무시하는 모듈 소환"
      ],
      "metadata": {
        "id": "FiJ74p5d2zUa"
      },
      "execution_count": 32,
      "outputs": []
    },
    {
      "cell_type": "code",
      "source": [
        "df.info()\n",
        "\n",
        "# 예의상 정보 확인인"
      ],
      "metadata": {
        "colab": {
          "base_uri": "https://localhost:8080/"
        },
        "id": "CaRITdjj23Pa",
        "outputId": "c03e0cdb-e92c-40ee-9733-3d84272a88a3"
      },
      "execution_count": 33,
      "outputs": [
        {
          "output_type": "stream",
          "name": "stdout",
          "text": [
            "<class 'pandas.core.frame.DataFrame'>\n",
            "RangeIndex: 251 entries, 0 to 250\n",
            "Data columns (total 10 columns):\n",
            " #   Column       Non-Null Count  Dtype  \n",
            "---  ------       --------------  -----  \n",
            " 0   시도           251 non-null    object \n",
            " 1   노인요양시설       251 non-null    float64\n",
            " 2   공동생활가정       251 non-null    float64\n",
            " 3   방문요양         251 non-null    float64\n",
            " 4   방문목욕         251 non-null    float64\n",
            " 5   방문간호         251 non-null    float64\n",
            " 6   주야간보호        251 non-null    float64\n",
            " 7   단기보호         251 non-null    float64\n",
            " 8   복지용구         251 non-null    float64\n",
            " 9   노인요양시설_공동생활  251 non-null    float64\n",
            "dtypes: float64(9), object(1)\n",
            "memory usage: 19.7+ KB\n"
          ]
        }
      ]
    },
    {
      "cell_type": "code",
      "source": [
        "import keras\n",
        "import tensorflow as tf\n",
        "\n",
        "#1. 변수선택\n",
        "X = df[['방문요양', '방문목욕', '주야간보호','복지용구']]\n",
        "Y = np.log1p(df['노인요양시설_공동생활'])\n",
        "\n",
        "#2. train - test split\n",
        "X_train, X_test, Y_train, Y_test = train_test_split(X,Y,test_size=0.3, random_state=0)\n",
        "\n",
        "#3 데이터 전처러(preprocessing)\n",
        "scaler = StandardScaler().fit(X_train)\n",
        "X_train = scaler.transform(X_train)\n",
        "X_test = scaler.transform(X_test)\n",
        "\n",
        "#4. seed 값 설정\n",
        "np.random.seed(0)\n",
        "tf.random.set_seed(0)\n",
        "\n",
        "#5. 모형생성\n",
        "model = keras.models.Sequential()\n",
        "model.add(keras.layers.Dense(64, input_dim=4, activation=\"relu\"))\n",
        "model.add(keras.layers.Dense(64, activation=\"relu\"))\n",
        "model.add(keras.layers.Dense(64, activation=\"relu\"))\n",
        "\n",
        "#6. 모형 학습\n",
        "model.compile(loss = \"mse\", optimizer = \"SGD\") # 확률적 경사 하강법(SGD): \n",
        "Y_pred = np.round(model.predict(X_test[:4], verbose=0),3)\n",
        "print(\"Y predict value \\n\", Y_pred)\n",
        "\n",
        "#7. 모형 평가\n",
        "train_score = model.evaluate(X_train, Y_train,verbose=0)\n",
        "test_score = model.evaluate(X_test, Y_test, verbose=0)\n",
        "print(\"train mse: {:.3f}\".format(train_score))\n",
        "print(\"test mse: {:.3f}\".format(test_score))"
      ],
      "metadata": {
        "colab": {
          "base_uri": "https://localhost:8080/"
        },
        "id": "3YnBqOBf26h6",
        "outputId": "0689f90f-49cf-4c0d-a6dc-729907330eaa"
      },
      "execution_count": 51,
      "outputs": [
        {
          "output_type": "stream",
          "name": "stdout",
          "text": [
            "Y predict value \n",
            " [[0.    0.026 0.031 0.    0.    0.151 0.033 0.    0.097 0.    0.037 0.012\n",
            "  0.    0.003 0.059 0.025 0.012 0.    0.    0.019 0.002 0.045 0.04  0.017\n",
            "  0.075 0.034 0.    0.027 0.03  0.    0.153 0.    0.    0.065 0.    0.\n",
            "  0.    0.    0.    0.    0.045 0.106 0.    0.    0.    0.    0.    0.027\n",
            "  0.183 0.032 0.09  0.037 0.    0.    0.    0.    0.    0.04  0.    0.\n",
            "  0.136 0.    0.091 0.064]\n",
            " [0.    0.    0.044 0.113 0.    0.    0.    0.    0.118 0.    0.023 0.214\n",
            "  0.009 0.    0.369 0.073 0.132 0.121 0.227 0.    0.    0.    0.394 0.09\n",
            "  0.    0.    0.    0.066 0.    0.    0.261 0.    0.    0.074 0.    0.114\n",
            "  0.    0.    0.    0.123 0.07  0.    0.062 0.    0.    0.    0.    0.032\n",
            "  0.    0.148 0.124 0.081 0.    0.437 0.013 0.    0.239 0.396 0.055 0.686\n",
            "  0.    0.    0.341 0.   ]\n",
            " [0.    0.    0.027 0.001 0.    0.    0.034 0.052 0.049 0.    0.048 0.036\n",
            "  0.    0.    0.079 0.    0.06  0.096 0.082 0.    0.    0.    0.145 0.031\n",
            "  0.    0.    0.    0.    0.    0.    0.081 0.    0.    0.036 0.    0.041\n",
            "  0.032 0.    0.    0.068 0.    0.    0.057 0.    0.    0.    0.012 0.\n",
            "  0.    0.038 0.    0.053 0.    0.142 0.035 0.    0.07  0.129 0.001 0.239\n",
            "  0.    0.    0.159 0.   ]\n",
            " [0.    0.048 0.    0.06  0.068 0.12  0.001 0.    0.084 0.    0.042 0.\n",
            "  0.    0.    0.067 0.006 0.002 0.083 0.083 0.    0.    0.03  0.148 0.062\n",
            "  0.    0.029 0.    0.005 0.    0.    0.    0.    0.    0.026 0.    0.025\n",
            "  0.063 0.    0.    0.    0.    0.    0.    0.    0.    0.    0.066 0.\n",
            "  0.117 0.085 0.    0.111 0.    0.    0.063 0.025 0.    0.    0.045 0.\n",
            "  0.    0.    0.1   0.   ]]\n",
            "train mse: 0.636\n",
            "test mse: 0.667\n"
          ]
        }
      ]
    },
    {
      "cell_type": "markdown",
      "source": [
        "train mse와 test mse 확인"
      ],
      "metadata": {
        "id": "I6LcnP8V89P9"
      }
    },
    {
      "cell_type": "markdown",
      "source": [
        "#앙상블"
      ],
      "metadata": {
        "id": "h--z9FM38-YC"
      }
    },
    {
      "cell_type": "markdown",
      "source": [
        "회귀예측"
      ],
      "metadata": {
        "id": "DYW5Bofl9CA5"
      }
    },
    {
      "cell_type": "code",
      "source": [
        "#1. 변수선택\n",
        "X = df[['방문요양', '방문목욕', '주야간보호','복지용구']]\n",
        "Y = np.log1p(df['노인요양시설_공동생활'])\n",
        "\n",
        "#2. train - test split\n",
        "X_train, X_test, Y_train, Y_test = train_test_split(X,Y,test_size=0.3, random_state=0)\n",
        "\n",
        "#3 데이터 전처러(preprocessing)\n",
        "scaler = StandardScaler().fit(X_train)\n",
        "X_train = scaler.transform(X_train)\n",
        "X_test = scaler.transform(X_test)\n",
        "\n",
        "#4. 단일 모형 생성\n",
        "from sklearn.ensemble import VotingRegressor\n",
        "from sklearn.neural_network import MLPRegressor\n",
        "from sklearn.svm import SVR\n",
        "\n",
        "svr = SVR()\n",
        "mlp = MLPRegressor(random_state=0)\n",
        "\n",
        "#5. voting model 생성\n",
        "model = VotingRegressor(estimators = [(\"SVR\", svr), (\"MLP\", mlp)])\n",
        "\n",
        "#6. 모형학습\n",
        "model.fit(X_train, Y_train)\n",
        "\n",
        "#7. 예측 및 모형 성능 평가\n",
        "Y_pred = model.predict(X_test)\n",
        "print(\"Y predict value: \\n\", Y_pred)\n",
        "#8-1. 보팅모형 정확도\n",
        "print(\"voting regressor accuracy(R2) : {0:.3f}\".format(model.score(X_test, Y_test)))\n",
        "#8-2. 개별모형 정확도\n",
        "Regressors = [svr, mlp]\n",
        "for Regressor in Regressors :\n",
        "  Regressor.fit(X_train, Y_train)\n",
        "  Regressor.fit(X_train, Y_train)\n",
        "  class_name = Regressor.__class__.__name__\n",
        "  print(\"{0} accuracy : {1:3f}\".format(class_name, Regressor.score(X_test, Y_test)))"
      ],
      "metadata": {
        "colab": {
          "base_uri": "https://localhost:8080/"
        },
        "id": "Q8VQHj-r9BJm",
        "outputId": "d78a546c-2792-4430-b3c1-d595fd6b3115"
      },
      "execution_count": 50,
      "outputs": [
        {
          "output_type": "stream",
          "name": "stdout",
          "text": [
            "Y predict value: \n",
            " [0.92981177 0.68846255 0.71292506 0.86305732 0.74902477 0.73645955\n",
            " 0.88374332 0.76837547 0.93528142 0.88049376 0.83071696 0.82532312\n",
            " 0.74050273 0.83399269 0.86392749 0.81500444 0.72265792 0.89882994\n",
            " 0.85124643 0.74182012 0.76576974 0.89517694 0.80237716 0.72867731\n",
            " 0.72357953 0.7201605  0.94821678 0.91337939 0.74791456 0.75511493\n",
            " 0.72365772 0.88991879 0.93237566 0.88082047 0.91180953 0.71058336\n",
            " 0.93064305 0.81069842 0.72781346 0.68333802 0.70772246 0.80601538\n",
            " 0.80843696 0.76937169 0.75788728 0.80916273 0.70836294 0.89866902\n",
            " 0.77371008 0.73362239 0.8556374  0.87208223 0.82019368 0.853345\n",
            " 0.8701102  0.87128959 0.76468194 0.89548266 0.76341657 0.76865838\n",
            " 0.70890088 0.78014617 0.75679917 0.71764521 0.7868707  0.78659852\n",
            " 0.78982098 0.73495945 0.84460425 0.8968286  0.79825703 0.73007454\n",
            " 0.71058336 0.88262196 0.70168289 0.86348959]\n",
            "voting regressor accuracy(R2) : 0.213\n",
            "SVR accuracy : 0.445230\n",
            "MLPRegressor accuracy : -0.343482\n"
          ]
        }
      ]
    },
    {
      "cell_type": "markdown",
      "source": [
        "정확도가 전반적으로 잘 안나오고 MLP accuracy는 완전 이상합니다."
      ],
      "metadata": {
        "id": "qJy6dl639UXK"
      }
    },
    {
      "cell_type": "markdown",
      "source": [
        "#그래디언트 회귀예측"
      ],
      "metadata": {
        "id": "sj_7qdH6-H2W"
      }
    },
    {
      "cell_type": "code",
      "source": [
        "#1. 변수선택\n",
        "X = df[['방문요양', '공동생활가정', '방문목욕', '주야간보호','복지용구']]\n",
        "Y = np.log1p(df['노인요양시설'])\n",
        "\n",
        "#2. train - test split\n",
        "X_train, X_test, Y_train, Y_test = train_test_split(X,Y,test_size=0.3, random_state=0)\n",
        "\n",
        "#3 데이터 전처러(preprocessing)\n",
        "scaler = StandardScaler().fit(X_train)\n",
        "X_train = scaler.transform(X_train)\n",
        "X_test = scaler.transform(X_test)\n",
        "\n",
        "#4. 모형생성\n",
        "from sklearn.ensemble import GradientBoostingRegressor\n",
        "model = GradientBoostingRegressor(random_state = 0, n_estimators = 100, max_depth = 4, learning_rate = 0.1)\n",
        "\n",
        "#5. 모형 학습 예측\n",
        "model.fit(X_train, Y_train)\n",
        "Y_pred = model.predict(X_test)\n",
        "print(\"Y predict value: \\n\", Y_pred)\n",
        "print(\"accuracy(test) : {:.3f}\".format(model.score(X_test, Y_test)))\n",
        "rmse = sqrt(mean_squared_error(Y_test, Y_pred))\n",
        "print(\"RMSE :\", rmse)"
      ],
      "metadata": {
        "colab": {
          "base_uri": "https://localhost:8080/"
        },
        "id": "RPRdMNkV-Gln",
        "outputId": "7c59e370-5729-4a06-fabb-f94ad99cf553"
      },
      "execution_count": 47,
      "outputs": [
        {
          "output_type": "stream",
          "name": "stdout",
          "text": [
            "Y predict value: \n",
            " [2.96635661 1.14141028 1.55827149 2.78586798 1.89854368 1.67173043\n",
            " 3.63064489 2.60257952 2.22655563 3.59093524 2.51803315 2.69498081\n",
            " 2.84824581 2.94566406 4.476637   2.50408479 1.817101   2.86166619\n",
            " 3.2887348  2.30723112 2.09574679 3.35817902 2.33186198 2.82661254\n",
            " 1.82226512 2.56594593 2.80006864 2.9746615  2.31732533 2.88299246\n",
            " 1.65190757 3.33021538 3.8052392  2.63995469 3.51837023 1.60591991\n",
            " 3.1137194  2.58057668 1.42309032 1.46686793 1.58480278 2.39436579\n",
            " 3.26672915 1.98511518 2.41586876 2.88830005 1.63477406 3.35648626\n",
            " 2.10334696 1.9330971  2.76110919 3.57431824 1.96237436 2.2847439\n",
            " 2.39295853 3.32437439 1.80875402 2.89354316 1.45365305 2.29112066\n",
            " 1.89069318 2.39783474 2.59356763 1.95692837 2.48977413 2.36265218\n",
            " 2.34981178 1.96851923 3.40466339 2.69633016 2.97533564 2.44028448\n",
            " 1.53118629 2.64549758 1.50323202 2.87054003]\n",
            "accuracy(test) : 0.470\n",
            "RMSE : 0.6066085393813206\n"
          ]
        }
      ]
    },
    {
      "cell_type": "markdown",
      "source": [
        "#랜덤포레스트"
      ],
      "metadata": {
        "id": "c2JBdacN9YeO"
      }
    },
    {
      "cell_type": "markdown",
      "source": [
        "회귀예측"
      ],
      "metadata": {
        "id": "9PvEmhAK9ahx"
      }
    },
    {
      "cell_type": "code",
      "source": [
        "#1. 변수선택\n",
        "X = df[['방문요양', '공동생활가정', '방문목욕', '주야간보호','복지용구']]\n",
        "Y = np.log1p(df['노인요양시설'])\n",
        "\n",
        "#2. train - test split\n",
        "X_train, X_test, Y_train, Y_test = train_test_split(X,Y,test_size=0.3, random_state=0)\n",
        "\n",
        "#3 데이터 전처러(preprocessing)\n",
        "scaler = StandardScaler().fit(X_train)\n",
        "X_train = scaler.transform(X_train)\n",
        "X_test = scaler.transform(X_test)\n",
        "\n",
        "#4. 모형 생성\n",
        "from sklearn.ensemble import RandomForestRegressor\n",
        "model = RandomForestRegressor(random_state = 0, n_estimators = 100, max_depth = 4)\n",
        "\n",
        "#5. 모형 예측 평가\n",
        "model.fit(X_train, Y_train)\n",
        "Y_pred = model.predict(X_test)\n",
        "print(\"Y predict value : \\n\",Y_pred)\n",
        "print(\"accuracy(R2) : {:.3f}\".format(model.score(X_train, Y_train)))\n",
        "rmse = sqrt(mean_squared_error(Y_test, Y_pred))\n",
        "print(\"RMSE :\", rmse)"
      ],
      "metadata": {
        "colab": {
          "base_uri": "https://localhost:8080/"
        },
        "id": "fJBt7eJG9Rdh",
        "outputId": "006e646a-9282-46ff-b872-b3db618ea7f9"
      },
      "execution_count": 48,
      "outputs": [
        {
          "output_type": "stream",
          "name": "stdout",
          "text": [
            "Y predict value : \n",
            " [3.01762161 1.26789911 1.65401795 2.86885313 1.77811664 1.7083349\n",
            " 3.17049311 2.76298176 2.43712301 3.17885407 2.6368241  2.67271626\n",
            " 2.77983946 2.91764769 4.04333058 2.51787431 1.70679544 2.95942056\n",
            " 3.00213946 2.39845947 1.93594362 3.62211744 2.57188922 2.77983946\n",
            " 1.76388307 2.49537415 3.0738455  3.01901963 2.43348309 2.58730399\n",
            " 1.70142154 3.14673998 3.53411482 3.01858555 3.17065792 1.63370981\n",
            " 2.89337138 2.44682476 1.67677987 1.45883398 1.57149197 2.41047644\n",
            " 3.01657435 2.15334218 2.50129853 3.01626251 1.65144215 3.21803071\n",
            " 2.67905858 1.99940854 2.72716558 3.17473621 2.46574497 2.56847383\n",
            " 2.6558051  3.1735813  2.42510718 2.83055405 1.76091896 2.59264466\n",
            " 1.8421255  2.63423521 2.71816214 2.05426485 2.33896862 2.17738445\n",
            " 2.37253456 2.02823862 3.17911305 2.72259812 2.8309033  2.50968424\n",
            " 1.69081877 2.7394311  1.51071257 3.06586889]\n",
            "accuracy(R2) : 0.796\n",
            "RMSE : 0.5634398162296441\n"
          ]
        }
      ]
    },
    {
      "cell_type": "markdown",
      "source": [
        "회귀모델 예측 정확도를 나타내는 R2 accuracy와 실제값과 예측값 사이의 오차를 나타내는 RMSE 모두 만족할만한 수치가 나왔습니다."
      ],
      "metadata": {
        "id": "I2x2nkEK9i8X"
      }
    },
    {
      "cell_type": "markdown",
      "source": [
        "랜덤포레스트 채택"
      ],
      "metadata": {
        "id": "16ieVWJ9-XIg"
      }
    },
    {
      "cell_type": "code",
      "source": [
        "import matplotlib.pyplot as plt\n",
        "\n",
        "%matplotlib inline\n",
        "plt.plot(Y_pred_df)\n",
        "plt.plot(Y_test_df)"
      ],
      "metadata": {
        "colab": {
          "base_uri": "https://localhost:8080/",
          "height": 285
        },
        "id": "6IYB4NRy9oZS",
        "outputId": "1a1a5709-f9a6-4868-bfe1-39040410c8e0"
      },
      "execution_count": 49,
      "outputs": [
        {
          "output_type": "execute_result",
          "data": {
            "text/plain": [
              "[<matplotlib.lines.Line2D at 0x7fa6d42c7160>]"
            ]
          },
          "metadata": {},
          "execution_count": 49
        },
        {
          "output_type": "display_data",
          "data": {
            "text/plain": [
              "<Figure size 432x288 with 1 Axes>"
            ],
            "image/png": "[encoded data removed]"
          },
          "metadata": {
            "needs_background": "light"
          }
        }
      ]
    },
    {
      "cell_type": "code",
      "source": [],
      "metadata": {
        "id": "aY2rBWCf-YvP"
      },
      "execution_count": null,
      "outputs": []
    }
  ]
}