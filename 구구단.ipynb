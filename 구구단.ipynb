{
  "nbformat": 4,
  "nbformat_minor": 0,
  "metadata": {
    "colab": {
      "provenance": [],
      "authorship_tag": "ABX9TyM2D5E4c4zCmoy0TMkMp5lH",
      "include_colab_link": true
    },
    "kernelspec": {
      "name": "python3",
      "display_name": "Python 3"
    },
    "language_info": {
      "name": "python"
    }
  },
  "cells": [
    {
      "cell_type": "markdown",
      "metadata": {
        "id": "view-in-github",
        "colab_type": "text"
      },
      "source": [
        "<a href=\"https://colab.research.google.com/github/hyeokjun0804/HJ_BigData_Maketing_Course/blob/main/%EA%B5%AC%EA%B5%AC%EB%8B%A8.ipynb\" target=\"_parent\"><img src=\"https://colab.research.google.com/assets/colab-badge.svg\" alt=\"Open In Colab\"/></a>"
      ]
    },
    {
      "cell_type": "markdown",
      "source": [
        "구구단"
      ],
      "metadata": {
        "id": "zBjd4jNsPGrK"
      }
    },
    {
      "cell_type": "code",
      "execution_count": 34,
      "metadata": {
        "colab": {
          "base_uri": "https://localhost:8080/"
        },
        "id": "BodScI7OPE6l",
        "outputId": "96ae2a8c-484b-44b7-a9b9-9c5aaf23619f"
      },
      "outputs": [
        {
          "output_type": "stream",
          "name": "stdout",
          "text": [
            "단을 입력하시오: 7\n",
            "7단을 출력합니다.\n",
            "7 x 1 = 7\n",
            "7 x 2 = 14\n",
            "7 x 3 = 21\n",
            "7 x 4 = 28\n",
            "7 x 5 = 35\n",
            "7 x 6 = 42\n",
            "7 x 7 = 49\n",
            "7 x 8 = 56\n",
            "7 x 9 = 63\n"
          ]
        }
      ],
      "source": [
        "x = int(input(\"단을 입력하시오: \"))\n",
        "print(\"%d단을 출력합니다.\" %x)\n",
        "i=1\n",
        "while i <= 9:\n",
        "    print(\"%d x %d = %d\" %(x, i, x*i))\n",
        "    i += 1"
      ]
    }
  ]
}