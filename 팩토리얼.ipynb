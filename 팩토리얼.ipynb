{
  "nbformat": 4,
  "nbformat_minor": 0,
  "metadata": {
    "colab": {
      "provenance": [],
      "authorship_tag": "ABX9TyPFID66e5Er6hq2qi2S8WBo",
      "include_colab_link": true
    },
    "kernelspec": {
      "name": "python3",
      "display_name": "Python 3"
    },
    "language_info": {
      "name": "python"
    }
  },
  "cells": [
    {
      "cell_type": "markdown",
      "metadata": {
        "id": "view-in-github",
        "colab_type": "text"
      },
      "source": [
        "<a href=\"https://colab.research.google.com/github/hyeokjun0804/HJ_BigData_Maketing_Course/blob/main/%ED%8C%A9%ED%86%A0%EB%A6%AC%EC%96%BC.ipynb\" target=\"_parent\"><img src=\"https://colab.research.google.com/assets/colab-badge.svg\" alt=\"Open In Colab\"/></a>"
      ]
    },
    {
      "cell_type": "code",
      "execution_count": 22,
      "metadata": {
        "colab": {
          "base_uri": "https://localhost:8080/"
        },
        "id": "DvdTt58Gf3jd",
        "outputId": "4c90ed11-2786-4d4e-8535-2bab7536ffec"
      },
      "outputs": [
        {
          "output_type": "stream",
          "name": "stdout",
          "text": [
            "10\n",
            "9\n"
          ]
        }
      ],
      "source": [
        "n = int(input()) # 변수 입력\n",
        "fact = 1\n",
        "\n",
        "#팩토리얼얼\n",
        "for i in range(1, n+1):\n",
        "  fact *= i\n",
        "\n",
        "#두 자릿수가 넘어가는 값을 한 자릿수로 나타내기\n",
        "while fact >= 10: #팩토리얼이 10 이상일 때\n",
        "  sum = 0\n",
        "  for i in str(fact): #자릿 수 합산\n",
        "    sum += int(i)\n",
        "  fact = sum\n",
        "print(sum) #출력력"
      ]
    },
    {
      "cell_type": "code",
      "source": [],
      "metadata": {
        "id": "ry-F9MO6hS7h"
      },
      "execution_count": 21,
      "outputs": []
    }
  ]
}